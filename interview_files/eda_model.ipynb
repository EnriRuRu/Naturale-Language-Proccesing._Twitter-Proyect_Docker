{
 "cells": [
  {
   "cell_type": "markdown",
   "metadata": {},
   "source": [
    "Realizar un pequeño análisis donde se respondan a las siguientes preguntas de\n",
    "negocio:\n",
    "a. ¿Cuál es el tweet con mayor repercusión social?\n",
    "b. ¿Cuál es el usuario que más menciona a la escuela?\n",
    "c. ¿En qué mes se concentra el mayor número de tweets?\n",
    "d. ¿Qué palabras son más frecuentes?\n",
    "e. ¿Qué tipo de correlación matemática encuentras entre las métricas públicas?\n",
    "f. ¿Has sacado alguna conclusión extra en tu análisis?"
   ]
  },
  {
   "cell_type": "code",
   "execution_count": 1,
   "metadata": {},
   "outputs": [],
   "source": [
    "import pandas as pd"
   ]
  },
  {
   "cell_type": "code",
   "execution_count": 2,
   "metadata": {},
   "outputs": [],
   "source": [
    "# hago el eda con el data de Scweet"
   ]
  },
  {
   "cell_type": "code",
   "execution_count": 82,
   "metadata": {},
   "outputs": [
    {
     "data": {
      "text/html": [
       "<div>\n",
       "<style scoped>\n",
       "    .dataframe tbody tr th:only-of-type {\n",
       "        vertical-align: middle;\n",
       "    }\n",
       "\n",
       "    .dataframe tbody tr th {\n",
       "        vertical-align: top;\n",
       "    }\n",
       "\n",
       "    .dataframe thead th {\n",
       "        text-align: right;\n",
       "    }\n",
       "</style>\n",
       "<table border=\"1\" class=\"dataframe\">\n",
       "  <thead>\n",
       "    <tr style=\"text-align: right;\">\n",
       "      <th></th>\n",
       "      <th>UserScreenName</th>\n",
       "      <th>UserName</th>\n",
       "      <th>Timestamp</th>\n",
       "      <th>Text</th>\n",
       "      <th>Embedded_text</th>\n",
       "      <th>Emojis</th>\n",
       "      <th>Comments</th>\n",
       "      <th>Likes</th>\n",
       "      <th>Retweets</th>\n",
       "      <th>Image link</th>\n",
       "      <th>Tweet URL</th>\n",
       "    </tr>\n",
       "  </thead>\n",
       "  <tbody>\n",
       "    <tr>\n",
       "      <th>0</th>\n",
       "      <td>La Product Conf &amp; LPCx España</td>\n",
       "      <td>@LaProductConfES</td>\n",
       "      <td>2022-06-14T16:18:58.000Z</td>\n",
       "      <td>La Product Conf &amp; LPCx España\\n@LaProductConfE...</td>\n",
       "      <td>Aquí estamos  a punto de comenzar #LPCxMAD con...</td>\n",
       "      <td>😊 🙌</td>\n",
       "      <td>1.0</td>\n",
       "      <td>1.0</td>\n",
       "      <td>4.0</td>\n",
       "      <td>['https://pbs.twimg.com/media/FVOdWusWQAEu5sz?...</td>\n",
       "      <td>https://twitter.com/LaProductConfES/status/153...</td>\n",
       "    </tr>\n",
       "    <tr>\n",
       "      <th>1</th>\n",
       "      <td>Heavy Mental</td>\n",
       "      <td>@HeavyMental_es</td>\n",
       "      <td>2022-06-13T11:33:09.000Z</td>\n",
       "      <td>Heavy Mental\\n@HeavyMental_es\\n·\\n13 jun.</td>\n",
       "      <td>Lo prometimos y han llegado gracias a \\n@TheBr...</td>\n",
       "      <td>👉</td>\n",
       "      <td>4.0</td>\n",
       "      <td>2.0</td>\n",
       "      <td>6.0</td>\n",
       "      <td>['https://pbs.twimg.com/profile_images/1546415...</td>\n",
       "      <td>https://twitter.com/HeavyMental_es/status/1536...</td>\n",
       "    </tr>\n",
       "    <tr>\n",
       "      <th>2</th>\n",
       "      <td>Javi Pérez Learning by doing.</td>\n",
       "      <td>@JaviMostoles</td>\n",
       "      <td>2022-06-13T11:42:21.000Z</td>\n",
       "      <td>Javi Pérez Learning by doing.\\n@JaviMostoles\\n...</td>\n",
       "      <td>Lo conseguí!!! Gracias \\n@TheBridge_Tech\\n  @H...</td>\n",
       "      <td>⚡ 😎 🦾 💻 📚 🚀 👉</td>\n",
       "      <td>NaN</td>\n",
       "      <td>NaN</td>\n",
       "      <td>1.0</td>\n",
       "      <td>['https://pbs.twimg.com/profile_images/1546415...</td>\n",
       "      <td>https://twitter.com/JaviMostoles/status/153631...</td>\n",
       "    </tr>\n",
       "    <tr>\n",
       "      <th>3</th>\n",
       "      <td>VLCTechHub</td>\n",
       "      <td>@VLCTechHub</td>\n",
       "      <td>2022-06-15T07:00:34.000Z</td>\n",
       "      <td>VLCTechHub\\n@VLCTechHub\\n·\\n15 jun.</td>\n",
       "      <td>Hoy \\n@TheBridge_Tech\\n a las 18:00: Taller Da...</td>\n",
       "      <td>NaN</td>\n",
       "      <td>NaN</td>\n",
       "      <td>1.0</td>\n",
       "      <td>1.0</td>\n",
       "      <td>[]</td>\n",
       "      <td>https://twitter.com/VLCTechHub/status/15369668...</td>\n",
       "    </tr>\n",
       "    <tr>\n",
       "      <th>4</th>\n",
       "      <td>Mulder</td>\n",
       "      <td>@Mulder01198676</td>\n",
       "      <td>2022-06-13T15:10:50.000Z</td>\n",
       "      <td>Mulder\\n@Mulder01198676\\n·\\n13 jun.</td>\n",
       "      <td>Respondiendo a \\n@HeavyMental_es\\n @TheBridge_...</td>\n",
       "      <td>NaN</td>\n",
       "      <td>NaN</td>\n",
       "      <td>NaN</td>\n",
       "      <td>2.0</td>\n",
       "      <td>['https://pbs.twimg.com/tweet_video_thumb/FVJE...</td>\n",
       "      <td>https://twitter.com/Mulder01198676/status/1536...</td>\n",
       "    </tr>\n",
       "  </tbody>\n",
       "</table>\n",
       "</div>"
      ],
      "text/plain": [
       "                  UserScreenName          UserName                 Timestamp  \\\n",
       "0  La Product Conf & LPCx España  @LaProductConfES  2022-06-14T16:18:58.000Z   \n",
       "1                   Heavy Mental   @HeavyMental_es  2022-06-13T11:33:09.000Z   \n",
       "2  Javi Pérez Learning by doing.     @JaviMostoles  2022-06-13T11:42:21.000Z   \n",
       "3                     VLCTechHub       @VLCTechHub  2022-06-15T07:00:34.000Z   \n",
       "4                         Mulder   @Mulder01198676  2022-06-13T15:10:50.000Z   \n",
       "\n",
       "                                                Text  \\\n",
       "0  La Product Conf & LPCx España\\n@LaProductConfE...   \n",
       "1          Heavy Mental\\n@HeavyMental_es\\n·\\n13 jun.   \n",
       "2  Javi Pérez Learning by doing.\\n@JaviMostoles\\n...   \n",
       "3                VLCTechHub\\n@VLCTechHub\\n·\\n15 jun.   \n",
       "4                Mulder\\n@Mulder01198676\\n·\\n13 jun.   \n",
       "\n",
       "                                       Embedded_text         Emojis  Comments  \\\n",
       "0  Aquí estamos  a punto de comenzar #LPCxMAD con...            😊 🙌       1.0   \n",
       "1  Lo prometimos y han llegado gracias a \\n@TheBr...              👉       4.0   \n",
       "2  Lo conseguí!!! Gracias \\n@TheBridge_Tech\\n  @H...  ⚡ 😎 🦾 💻 📚 🚀 👉       NaN   \n",
       "3  Hoy \\n@TheBridge_Tech\\n a las 18:00: Taller Da...            NaN       NaN   \n",
       "4  Respondiendo a \\n@HeavyMental_es\\n @TheBridge_...            NaN       NaN   \n",
       "\n",
       "   Likes  Retweets                                         Image link  \\\n",
       "0    1.0       4.0  ['https://pbs.twimg.com/media/FVOdWusWQAEu5sz?...   \n",
       "1    2.0       6.0  ['https://pbs.twimg.com/profile_images/1546415...   \n",
       "2    NaN       1.0  ['https://pbs.twimg.com/profile_images/1546415...   \n",
       "3    1.0       1.0                                                 []   \n",
       "4    NaN       2.0  ['https://pbs.twimg.com/tweet_video_thumb/FVJE...   \n",
       "\n",
       "                                           Tweet URL  \n",
       "0  https://twitter.com/LaProductConfES/status/153...  \n",
       "1  https://twitter.com/HeavyMental_es/status/1536...  \n",
       "2  https://twitter.com/JaviMostoles/status/153631...  \n",
       "3  https://twitter.com/VLCTechHub/status/15369668...  \n",
       "4  https://twitter.com/Mulder01198676/status/1536...  "
      ]
     },
     "execution_count": 82,
     "metadata": {},
     "output_type": "execute_result"
    }
   ],
   "source": [
    "data = pd.read_csv('twiteets.csv', encoding = 'utf_8', index_col=[0])\n",
    "data.head()"
   ]
  },
  {
   "cell_type": "code",
   "execution_count": 87,
   "metadata": {},
   "outputs": [
    {
     "data": {
      "text/plain": [
       "0      2022-06-14T16:18:58.000Z\n",
       "1      2022-06-13T11:33:09.000Z\n",
       "2      2022-06-13T11:42:21.000Z\n",
       "3      2022-06-15T07:00:34.000Z\n",
       "4      2022-06-13T15:10:50.000Z\n",
       "                 ...           \n",
       "133    2022-09-23T08:45:56.000Z\n",
       "134    2022-09-28T10:46:00.000Z\n",
       "135    2022-09-28T20:14:18.000Z\n",
       "136    2022-09-26T07:58:25.000Z\n",
       "137    2022-09-27T19:51:59.000Z\n",
       "Name: Timestamp, Length: 138, dtype: object"
      ]
     },
     "execution_count": 87,
     "metadata": {},
     "output_type": "execute_result"
    }
   ],
   "source": [
    "data['Timestamp']"
   ]
  },
  {
   "cell_type": "code",
   "execution_count": 88,
   "metadata": {},
   "outputs": [],
   "source": [
    "data['Month'] = pd.DatetimeIndex(data['Timestamp']).month"
   ]
  },
  {
   "cell_type": "code",
   "execution_count": 89,
   "metadata": {},
   "outputs": [
    {
     "data": {
      "text/plain": [
       "6    59\n",
       "7    31\n",
       "9    31\n",
       "8    17\n",
       "Name: Month, dtype: int64"
      ]
     },
     "execution_count": 89,
     "metadata": {},
     "output_type": "execute_result"
    }
   ],
   "source": [
    "data['Month'].value_counts()"
   ]
  },
  {
   "cell_type": "code",
   "execution_count": 90,
   "metadata": {},
   "outputs": [],
   "source": [
    "data['Timestamp'] = pd.to_datetime(data['Timestamp'])"
   ]
  },
  {
   "cell_type": "code",
   "execution_count": 91,
   "metadata": {},
   "outputs": [],
   "source": [
    "data['Embedded_text_new'] =data['Embedded_text'].replace({'\\n':' '}, regex=True)"
   ]
  },
  {
   "cell_type": "code",
   "execution_count": 92,
   "metadata": {},
   "outputs": [
    {
     "name": "stdout",
     "output_type": "stream",
     "text": [
      "<class 'pandas.core.frame.DataFrame'>\n",
      "Int64Index: 138 entries, 0 to 137\n",
      "Data columns (total 13 columns):\n",
      " #   Column             Non-Null Count  Dtype              \n",
      "---  ------             --------------  -----              \n",
      " 0   UserScreenName     138 non-null    object             \n",
      " 1   UserName           138 non-null    object             \n",
      " 2   Timestamp          138 non-null    datetime64[ns, UTC]\n",
      " 3   Text               138 non-null    object             \n",
      " 4   Embedded_text      138 non-null    object             \n",
      " 5   Emojis             77 non-null     object             \n",
      " 6   Comments           29 non-null     float64            \n",
      " 7   Likes              54 non-null     float64            \n",
      " 8   Retweets           120 non-null    float64            \n",
      " 9   Image link         138 non-null    object             \n",
      " 10  Tweet URL          138 non-null    object             \n",
      " 11  Month              138 non-null    int64              \n",
      " 12  Embedded_text_new  138 non-null    object             \n",
      "dtypes: datetime64[ns, UTC](1), float64(3), int64(1), object(8)\n",
      "memory usage: 19.2+ KB\n"
     ]
    }
   ],
   "source": [
    "data.info()"
   ]
  },
  {
   "cell_type": "code",
   "execution_count": 10,
   "metadata": {},
   "outputs": [],
   "source": [
    "# Comments"
   ]
  },
  {
   "cell_type": "code",
   "execution_count": 93,
   "metadata": {},
   "outputs": [
    {
     "data": {
      "text/plain": [
       "1.0    21\n",
       "2.0     4\n",
       "3.0     2\n",
       "4.0     1\n",
       "6.0     1\n",
       "Name: Comments, dtype: int64"
      ]
     },
     "execution_count": 93,
     "metadata": {},
     "output_type": "execute_result"
    }
   ],
   "source": [
    "data['Comments'].value_counts()"
   ]
  },
  {
   "cell_type": "code",
   "execution_count": 94,
   "metadata": {},
   "outputs": [],
   "source": [
    "data['Comments'] = data['Comments'].fillna(0)"
   ]
  },
  {
   "cell_type": "code",
   "execution_count": 95,
   "metadata": {},
   "outputs": [
    {
     "data": {
      "text/plain": [
       "0.0    109\n",
       "1.0     21\n",
       "2.0      4\n",
       "3.0      2\n",
       "4.0      1\n",
       "6.0      1\n",
       "Name: Comments, dtype: int64"
      ]
     },
     "execution_count": 95,
     "metadata": {},
     "output_type": "execute_result"
    }
   ],
   "source": [
    "data['Comments'].value_counts()"
   ]
  },
  {
   "cell_type": "code",
   "execution_count": 14,
   "metadata": {},
   "outputs": [],
   "source": [
    "# Likes"
   ]
  },
  {
   "cell_type": "code",
   "execution_count": 96,
   "metadata": {},
   "outputs": [],
   "source": [
    "data['Likes'] = data['Likes'].fillna(0)"
   ]
  },
  {
   "cell_type": "code",
   "execution_count": 16,
   "metadata": {},
   "outputs": [],
   "source": [
    "# Retweets"
   ]
  },
  {
   "cell_type": "code",
   "execution_count": 97,
   "metadata": {},
   "outputs": [],
   "source": [
    "data['Retweets'] = data['Retweets'].fillna(0)"
   ]
  },
  {
   "cell_type": "code",
   "execution_count": 98,
   "metadata": {},
   "outputs": [],
   "source": [
    "data['total_repercusion'] = data['Retweets'] + data['Likes'] + data['Comments']"
   ]
  },
  {
   "cell_type": "code",
   "execution_count": 19,
   "metadata": {},
   "outputs": [],
   "source": [
    "# el tweet con mayor repercusion global"
   ]
  },
  {
   "cell_type": "code",
   "execution_count": 99,
   "metadata": {},
   "outputs": [
    {
     "data": {
      "text/html": [
       "<div>\n",
       "<style scoped>\n",
       "    .dataframe tbody tr th:only-of-type {\n",
       "        vertical-align: middle;\n",
       "    }\n",
       "\n",
       "    .dataframe tbody tr th {\n",
       "        vertical-align: top;\n",
       "    }\n",
       "\n",
       "    .dataframe thead th {\n",
       "        text-align: right;\n",
       "    }\n",
       "</style>\n",
       "<table border=\"1\" class=\"dataframe\">\n",
       "  <thead>\n",
       "    <tr style=\"text-align: right;\">\n",
       "      <th></th>\n",
       "      <th>UserScreenName</th>\n",
       "      <th>UserName</th>\n",
       "      <th>Timestamp</th>\n",
       "      <th>Text</th>\n",
       "      <th>Embedded_text</th>\n",
       "      <th>Emojis</th>\n",
       "      <th>Comments</th>\n",
       "      <th>Likes</th>\n",
       "      <th>Retweets</th>\n",
       "      <th>Image link</th>\n",
       "      <th>Tweet URL</th>\n",
       "      <th>Month</th>\n",
       "      <th>Embedded_text_new</th>\n",
       "      <th>total_repercusion</th>\n",
       "    </tr>\n",
       "  </thead>\n",
       "  <tbody>\n",
       "    <tr>\n",
       "      <th>129</th>\n",
       "      <td>Pau Mugarra</td>\n",
       "      <td>@PauMugarra</td>\n",
       "      <td>2022-09-23 09:44:36+00:00</td>\n",
       "      <td>Pau Mugarra\\n@PauMugarra\\n·\\n23 sept.</td>\n",
       "      <td>Y seguimos con lo prometido:\\n\\nPrimera quedad...</td>\n",
       "      <td>🚀</td>\n",
       "      <td>0.0</td>\n",
       "      <td>11.0</td>\n",
       "      <td>20.0</td>\n",
       "      <td>['https://pbs.twimg.com/card_img/1578320422902...</td>\n",
       "      <td>https://twitter.com/PauMugarra/status/15732469...</td>\n",
       "      <td>9</td>\n",
       "      <td>Y seguimos con lo prometido:  Primera quedada ...</td>\n",
       "      <td>31.0</td>\n",
       "    </tr>\n",
       "  </tbody>\n",
       "</table>\n",
       "</div>"
      ],
      "text/plain": [
       "    UserScreenName     UserName                 Timestamp  \\\n",
       "129    Pau Mugarra  @PauMugarra 2022-09-23 09:44:36+00:00   \n",
       "\n",
       "                                      Text  \\\n",
       "129  Pau Mugarra\\n@PauMugarra\\n·\\n23 sept.   \n",
       "\n",
       "                                         Embedded_text Emojis  Comments  \\\n",
       "129  Y seguimos con lo prometido:\\n\\nPrimera quedad...      🚀       0.0   \n",
       "\n",
       "     Likes  Retweets                                         Image link  \\\n",
       "129   11.0      20.0  ['https://pbs.twimg.com/card_img/1578320422902...   \n",
       "\n",
       "                                             Tweet URL  Month  \\\n",
       "129  https://twitter.com/PauMugarra/status/15732469...      9   \n",
       "\n",
       "                                     Embedded_text_new  total_repercusion  \n",
       "129  Y seguimos con lo prometido:  Primera quedada ...               31.0  "
      ]
     },
     "execution_count": 99,
     "metadata": {},
     "output_type": "execute_result"
    }
   ],
   "source": [
    "data [data['total_repercusion'] == data['total_repercusion'].max()]"
   ]
  },
  {
   "cell_type": "code",
   "execution_count": 16,
   "metadata": {},
   "outputs": [
    {
     "data": {
      "text/plain": [
       "'Y seguimos con lo prometido:  Primera quedada de la comunidad #CPS en Madrid : https://meetup.com/cps-spain/events/288650795?utm_medium=referral&utm_campaign=share-btn_savedevents_share_modal&utm_source=twitter… en un espacio cedido por  @TheBridge_Tech . meetup.com Primera quedada #CPS Madrid, Thu, Oct 13, 2022, 7:00 PM | Meetup ¡Primer evento de la comunidad #CPS en Madrid! Con este evento lo que queremos es empezar a darle forma a la comunidad que se está formando alrededor del #CPS (Complex Pro 11 20'"
      ]
     },
     "execution_count": 16,
     "metadata": {},
     "output_type": "execute_result"
    }
   ],
   "source": [
    "data.iloc[129]['Embedded_text_new']"
   ]
  },
  {
   "cell_type": "code",
   "execution_count": 22,
   "metadata": {},
   "outputs": [],
   "source": [
    "# el tweet con más likes"
   ]
  },
  {
   "cell_type": "code",
   "execution_count": 100,
   "metadata": {},
   "outputs": [
    {
     "data": {
      "text/html": [
       "<div>\n",
       "<style scoped>\n",
       "    .dataframe tbody tr th:only-of-type {\n",
       "        vertical-align: middle;\n",
       "    }\n",
       "\n",
       "    .dataframe tbody tr th {\n",
       "        vertical-align: top;\n",
       "    }\n",
       "\n",
       "    .dataframe thead th {\n",
       "        text-align: right;\n",
       "    }\n",
       "</style>\n",
       "<table border=\"1\" class=\"dataframe\">\n",
       "  <thead>\n",
       "    <tr style=\"text-align: right;\">\n",
       "      <th></th>\n",
       "      <th>UserScreenName</th>\n",
       "      <th>UserName</th>\n",
       "      <th>Timestamp</th>\n",
       "      <th>Text</th>\n",
       "      <th>Embedded_text</th>\n",
       "      <th>Emojis</th>\n",
       "      <th>Comments</th>\n",
       "      <th>Likes</th>\n",
       "      <th>Retweets</th>\n",
       "      <th>Image link</th>\n",
       "      <th>Tweet URL</th>\n",
       "      <th>Month</th>\n",
       "      <th>Embedded_text_new</th>\n",
       "      <th>total_repercusion</th>\n",
       "    </tr>\n",
       "  </thead>\n",
       "  <tbody>\n",
       "    <tr>\n",
       "      <th>83</th>\n",
       "      <td>Jot Down Magazine</td>\n",
       "      <td>@JotDownSpain</td>\n",
       "      <td>2022-07-24 10:10:39+00:00</td>\n",
       "      <td>Jot Down Magazine\\n@JotDownSpain\\n·\\n24 jul.</td>\n",
       "      <td>El próximo jueves 28 estaremos em \\n@TheBridge...</td>\n",
       "      <td>NaN</td>\n",
       "      <td>0.0</td>\n",
       "      <td>13.0</td>\n",
       "      <td>15.0</td>\n",
       "      <td>['https://pbs.twimg.com/card_img/1576714001454...</td>\n",
       "      <td>https://twitter.com/JotDownSpain/status/155114...</td>\n",
       "      <td>7</td>\n",
       "      <td>El próximo jueves 28 estaremos em  @TheBridge_...</td>\n",
       "      <td>28.0</td>\n",
       "    </tr>\n",
       "  </tbody>\n",
       "</table>\n",
       "</div>"
      ],
      "text/plain": [
       "       UserScreenName       UserName                 Timestamp  \\\n",
       "83  Jot Down Magazine  @JotDownSpain 2022-07-24 10:10:39+00:00   \n",
       "\n",
       "                                            Text  \\\n",
       "83  Jot Down Magazine\\n@JotDownSpain\\n·\\n24 jul.   \n",
       "\n",
       "                                        Embedded_text Emojis  Comments  Likes  \\\n",
       "83  El próximo jueves 28 estaremos em \\n@TheBridge...    NaN       0.0   13.0   \n",
       "\n",
       "    Retweets                                         Image link  \\\n",
       "83      15.0  ['https://pbs.twimg.com/card_img/1576714001454...   \n",
       "\n",
       "                                            Tweet URL  Month  \\\n",
       "83  https://twitter.com/JotDownSpain/status/155114...      7   \n",
       "\n",
       "                                    Embedded_text_new  total_repercusion  \n",
       "83  El próximo jueves 28 estaremos em  @TheBridge_...               28.0  "
      ]
     },
     "execution_count": 100,
     "metadata": {},
     "output_type": "execute_result"
    }
   ],
   "source": [
    "data [data['Likes'] == data['Likes'].max()]"
   ]
  },
  {
   "cell_type": "code",
   "execution_count": 101,
   "metadata": {},
   "outputs": [
    {
     "data": {
      "text/plain": [
       "'El próximo jueves 28 estaremos em  @TheBridge_Tech  con  @uriondo  que impartirá la masterclass «Evita el periodismo: una oda a la profesión». La asistencia es gratuita hasta completar aforo. Os esperamos. jotdown.es Masterclass con Miguel Ángel Uriondo - Jot Down Cultural Magazine El jueves 28 de julio, a las 19:00, en The Bridge, Miguel Ángel Uriondo @uriondo impartirá la primera de las masterclass gratuitas con las que presentamos el 13 15'"
      ]
     },
     "execution_count": 101,
     "metadata": {},
     "output_type": "execute_result"
    }
   ],
   "source": [
    "data.iloc[83]['Embedded_text_new']"
   ]
  },
  {
   "cell_type": "code",
   "execution_count": 25,
   "metadata": {},
   "outputs": [],
   "source": [
    "# el tweet con más retweets"
   ]
  },
  {
   "cell_type": "code",
   "execution_count": 102,
   "metadata": {},
   "outputs": [
    {
     "data": {
      "text/html": [
       "<div>\n",
       "<style scoped>\n",
       "    .dataframe tbody tr th:only-of-type {\n",
       "        vertical-align: middle;\n",
       "    }\n",
       "\n",
       "    .dataframe tbody tr th {\n",
       "        vertical-align: top;\n",
       "    }\n",
       "\n",
       "    .dataframe thead th {\n",
       "        text-align: right;\n",
       "    }\n",
       "</style>\n",
       "<table border=\"1\" class=\"dataframe\">\n",
       "  <thead>\n",
       "    <tr style=\"text-align: right;\">\n",
       "      <th></th>\n",
       "      <th>UserScreenName</th>\n",
       "      <th>UserName</th>\n",
       "      <th>Timestamp</th>\n",
       "      <th>Text</th>\n",
       "      <th>Embedded_text</th>\n",
       "      <th>Emojis</th>\n",
       "      <th>Comments</th>\n",
       "      <th>Likes</th>\n",
       "      <th>Retweets</th>\n",
       "      <th>Image link</th>\n",
       "      <th>Tweet URL</th>\n",
       "      <th>Month</th>\n",
       "      <th>Embedded_text_new</th>\n",
       "      <th>total_repercusion</th>\n",
       "    </tr>\n",
       "  </thead>\n",
       "  <tbody>\n",
       "    <tr>\n",
       "      <th>31</th>\n",
       "      <td>The Bridge</td>\n",
       "      <td>@TheBridge_Tech</td>\n",
       "      <td>2022-06-28 07:03:36+00:00</td>\n",
       "      <td>The Bridge\\n@TheBridge_Tech\\n·\\n28 jun.</td>\n",
       "      <td>Gracias \\n@HeavyMental_es\\n por la tarde de ay...</td>\n",
       "      <td>🎙 👏 😍</td>\n",
       "      <td>0.0</td>\n",
       "      <td>4.0</td>\n",
       "      <td>22.0</td>\n",
       "      <td>['https://pbs.twimg.com/profile_images/1391818...</td>\n",
       "      <td>https://twitter.com/TheBridge_Tech/status/1541...</td>\n",
       "      <td>6</td>\n",
       "      <td>Gracias  @HeavyMental_es  por la tarde de ayer...</td>\n",
       "      <td>26.0</td>\n",
       "    </tr>\n",
       "    <tr>\n",
       "      <th>32</th>\n",
       "      <td>Heavy Mental</td>\n",
       "      <td>@HeavyMental_es</td>\n",
       "      <td>2022-06-29 18:00:06+00:00</td>\n",
       "      <td>Heavy Mental\\n@HeavyMental_es\\n·\\n29 jun.</td>\n",
       "      <td>El sentido de la vida ya no es 42 -- Light Men...</td>\n",
       "      <td>NaN</td>\n",
       "      <td>2.0</td>\n",
       "      <td>6.0</td>\n",
       "      <td>22.0</td>\n",
       "      <td>['https://pbs.twimg.com/card_img/1578346480003...</td>\n",
       "      <td>https://twitter.com/HeavyMental_es/status/1542...</td>\n",
       "      <td>6</td>\n",
       "      <td>El sentido de la vida ya no es 42 -- Light Men...</td>\n",
       "      <td>30.0</td>\n",
       "    </tr>\n",
       "  </tbody>\n",
       "</table>\n",
       "</div>"
      ],
      "text/plain": [
       "   UserScreenName         UserName                 Timestamp  \\\n",
       "31     The Bridge  @TheBridge_Tech 2022-06-28 07:03:36+00:00   \n",
       "32   Heavy Mental  @HeavyMental_es 2022-06-29 18:00:06+00:00   \n",
       "\n",
       "                                         Text  \\\n",
       "31    The Bridge\\n@TheBridge_Tech\\n·\\n28 jun.   \n",
       "32  Heavy Mental\\n@HeavyMental_es\\n·\\n29 jun.   \n",
       "\n",
       "                                        Embedded_text Emojis  Comments  Likes  \\\n",
       "31  Gracias \\n@HeavyMental_es\\n por la tarde de ay...  🎙 👏 😍       0.0    4.0   \n",
       "32  El sentido de la vida ya no es 42 -- Light Men...    NaN       2.0    6.0   \n",
       "\n",
       "    Retweets                                         Image link  \\\n",
       "31      22.0  ['https://pbs.twimg.com/profile_images/1391818...   \n",
       "32      22.0  ['https://pbs.twimg.com/card_img/1578346480003...   \n",
       "\n",
       "                                            Tweet URL  Month  \\\n",
       "31  https://twitter.com/TheBridge_Tech/status/1541...      6   \n",
       "32  https://twitter.com/HeavyMental_es/status/1542...      6   \n",
       "\n",
       "                                    Embedded_text_new  total_repercusion  \n",
       "31  Gracias  @HeavyMental_es  por la tarde de ayer...               26.0  \n",
       "32  El sentido de la vida ya no es 42 -- Light Men...               30.0  "
      ]
     },
     "execution_count": 102,
     "metadata": {},
     "output_type": "execute_result"
    }
   ],
   "source": [
    "data [data['Retweets'] == data['Retweets'].max()]"
   ]
  },
  {
   "cell_type": "code",
   "execution_count": 103,
   "metadata": {},
   "outputs": [
    {
     "data": {
      "text/plain": [
       "'Gracias  @HeavyMental_es  por la tarde de ayer y a todos los asistentes ¡Éxito absoluto!  Heavy Mental @HeavyMental_es · 28 jun. Graciassss a todos   Nos vemos 9/julio en el directo final de temporada en Twitch (avisaremos por aquí) y a partir de septiembre con más HEAVY, pero sobre todo con mucho MENTAL. 4 22'"
      ]
     },
     "execution_count": 103,
     "metadata": {},
     "output_type": "execute_result"
    }
   ],
   "source": [
    "data.iloc[31]['Embedded_text_new']"
   ]
  },
  {
   "cell_type": "code",
   "execution_count": 104,
   "metadata": {},
   "outputs": [
    {
     "data": {
      "text/plain": [
       "'El sentido de la vida ya no es 42 -- Light Mental edición especial  @TheBridge_Tech Heavy Mental @HeavyMental_es El sentido de la vida ya no es 42 -- Light Mental edición especial @TheBridge_Tech 2 6 22'"
      ]
     },
     "execution_count": 104,
     "metadata": {},
     "output_type": "execute_result"
    }
   ],
   "source": [
    "data.iloc[32]['Embedded_text_new']"
   ]
  },
  {
   "cell_type": "code",
   "execution_count": 29,
   "metadata": {},
   "outputs": [],
   "source": [
    "# el tweet con más Comments"
   ]
  },
  {
   "cell_type": "code",
   "execution_count": 105,
   "metadata": {},
   "outputs": [
    {
     "data": {
      "text/html": [
       "<div>\n",
       "<style scoped>\n",
       "    .dataframe tbody tr th:only-of-type {\n",
       "        vertical-align: middle;\n",
       "    }\n",
       "\n",
       "    .dataframe tbody tr th {\n",
       "        vertical-align: top;\n",
       "    }\n",
       "\n",
       "    .dataframe thead th {\n",
       "        text-align: right;\n",
       "    }\n",
       "</style>\n",
       "<table border=\"1\" class=\"dataframe\">\n",
       "  <thead>\n",
       "    <tr style=\"text-align: right;\">\n",
       "      <th></th>\n",
       "      <th>UserScreenName</th>\n",
       "      <th>UserName</th>\n",
       "      <th>Timestamp</th>\n",
       "      <th>Text</th>\n",
       "      <th>Embedded_text</th>\n",
       "      <th>Emojis</th>\n",
       "      <th>Comments</th>\n",
       "      <th>Likes</th>\n",
       "      <th>Retweets</th>\n",
       "      <th>Image link</th>\n",
       "      <th>Tweet URL</th>\n",
       "      <th>Month</th>\n",
       "      <th>Embedded_text_new</th>\n",
       "      <th>total_repercusion</th>\n",
       "    </tr>\n",
       "  </thead>\n",
       "  <tbody>\n",
       "    <tr>\n",
       "      <th>5</th>\n",
       "      <td>The Bridge</td>\n",
       "      <td>@TheBridge_Tech</td>\n",
       "      <td>2022-06-13 11:31:04+00:00</td>\n",
       "      <td>The Bridge\\n@TheBridge_Tech\\n·\\n13 jun.</td>\n",
       "      <td>¡Últimasentradas! El lunes 27 de junio acogere...</td>\n",
       "      <td>👉 🚨 🎙 📌 🔞 🍆 🔝 🔗</td>\n",
       "      <td>6.0</td>\n",
       "      <td>4.0</td>\n",
       "      <td>4.0</td>\n",
       "      <td>['https://pbs.twimg.com/profile_images/1391818...</td>\n",
       "      <td>https://twitter.com/TheBridge_Tech/status/1536...</td>\n",
       "      <td>6</td>\n",
       "      <td>¡Últimasentradas! El lunes 27 de junio acogere...</td>\n",
       "      <td>14.0</td>\n",
       "    </tr>\n",
       "  </tbody>\n",
       "</table>\n",
       "</div>"
      ],
      "text/plain": [
       "  UserScreenName         UserName                 Timestamp  \\\n",
       "5     The Bridge  @TheBridge_Tech 2022-06-13 11:31:04+00:00   \n",
       "\n",
       "                                      Text  \\\n",
       "5  The Bridge\\n@TheBridge_Tech\\n·\\n13 jun.   \n",
       "\n",
       "                                       Embedded_text           Emojis  \\\n",
       "5  ¡Últimasentradas! El lunes 27 de junio acogere...  👉 🚨 🎙 📌 🔞 🍆 🔝 🔗   \n",
       "\n",
       "   Comments  Likes  Retweets  \\\n",
       "5       6.0    4.0       4.0   \n",
       "\n",
       "                                          Image link  \\\n",
       "5  ['https://pbs.twimg.com/profile_images/1391818...   \n",
       "\n",
       "                                           Tweet URL  Month  \\\n",
       "5  https://twitter.com/TheBridge_Tech/status/1536...      6   \n",
       "\n",
       "                                   Embedded_text_new  total_repercusion  \n",
       "5  ¡Últimasentradas! El lunes 27 de junio acogere...               14.0  "
      ]
     },
     "execution_count": 105,
     "metadata": {},
     "output_type": "execute_result"
    }
   ],
   "source": [
    "data [data['Comments'] == data['Comments'].max()]"
   ]
  },
  {
   "cell_type": "code",
   "execution_count": 106,
   "metadata": {},
   "outputs": [
    {
     "data": {
      "text/plain": [
       "'¡Últimasentradas! El lunes 27 de junio acogeremos la grabación de \"El sentido de la vida ya no es 42\" un episodio del podcast de  @HeavyMental_es , donde presentarán \"El pequeño libro de la filosofía estoica\" de  @Alienta  Si quieres asistir como públicohttps://bit.ly/3xoiW1g Heavy Mental @HeavyMental_es · 11 jun. 27/7 - 7:30PM - PODCAST PRESENCIAL MADRID, @TheBridge_Tech (Recoletos,15) SÓLO  ENTRADAS   \"EL SENTIDO DE LA VIDA YA NO ES 42\"   https://eventbrite.es/e/entradas-el-sentido-de-la-vida-ya-no-es-42-podcast-en-directo-by-heavy-mental-353691710427…  Invitado: @GuillermoDeHaro con @Recuenco ha escrito \"El pequeño libro de la filosofía estoica\" de @alienta Mostrar este hilo 6 4 4'"
      ]
     },
     "execution_count": 106,
     "metadata": {},
     "output_type": "execute_result"
    }
   ],
   "source": [
    "data.iloc[5]['Embedded_text_new']"
   ]
  },
  {
   "cell_type": "code",
   "execution_count": 32,
   "metadata": {},
   "outputs": [],
   "source": [
    "# usuario que más menciona a la escuela == es The Bridge y Heavy Mental"
   ]
  },
  {
   "cell_type": "code",
   "execution_count": 24,
   "metadata": {},
   "outputs": [
    {
     "data": {
      "text/plain": [
       "The Bridge          30\n",
       "Heavy Mental         7\n",
       "Mulder               5\n",
       "Fujitsu España       4\n",
       "diegodl              4\n",
       "                    ..\n",
       "carlosmcabo          1\n",
       "Miki ツ               1\n",
       "Christian Senra      1\n",
       "hayCANAL.com         1\n",
       "Apiux Tecnología     1\n",
       "Name: UserScreenName, Length: 66, dtype: int64"
      ]
     },
     "execution_count": 24,
     "metadata": {},
     "output_type": "execute_result"
    }
   ],
   "source": [
    "data['UserScreenName'].value_counts()"
   ]
  },
  {
   "cell_type": "code",
   "execution_count": 34,
   "metadata": {},
   "outputs": [],
   "source": [
    "#el mes en el que hay más twiters ==Junio con el 43 % de los twits"
   ]
  },
  {
   "cell_type": "code",
   "execution_count": 25,
   "metadata": {},
   "outputs": [
    {
     "data": {
      "text/plain": [
       "6    59\n",
       "7    31\n",
       "9    31\n",
       "8    17\n",
       "Name: Month, dtype: int64"
      ]
     },
     "execution_count": 25,
     "metadata": {},
     "output_type": "execute_result"
    }
   ],
   "source": [
    "data['Month'].value_counts()"
   ]
  },
  {
   "cell_type": "code",
   "execution_count": 146,
   "metadata": {},
   "outputs": [],
   "source": [
    "import seaborn as sns\n",
    "import matplotlib.pyplot as plt\n"
   ]
  },
  {
   "cell_type": "code",
   "execution_count": 147,
   "metadata": {},
   "outputs": [],
   "source": [
    "# Create Data\n",
    "x=['6','7','8','9']\n",
    "y =[59,31,17,31]"
   ]
  },
  {
   "cell_type": "code",
   "execution_count": 148,
   "metadata": {},
   "outputs": [
    {
     "data": {
      "image/png": "[encoded data removed]",
      "text/plain": [
       "<Figure size 432x288 with 1 Axes>"
      ]
     },
     "metadata": {
      "needs_background": "light"
     },
     "output_type": "display_data"
    }
   ],
   "source": [
    "# Simple Bar Plot\n",
    "plt.bar(x,y)\n",
    "plt.xlabel('month')\n",
    "plt.ylabel(\"twits count\")\n",
    "plt.title('twits per month')\n",
    "plt.show()"
   ]
  },
  {
   "cell_type": "code",
   "execution_count": 26,
   "metadata": {},
   "outputs": [
    {
     "data": {
      "text/plain": [
       "42.7536231884058"
      ]
     },
     "execution_count": 26,
     "metadata": {},
     "output_type": "execute_result"
    }
   ],
   "source": [
    "porcentaje=100* 59/(59+31+31+17)\n",
    "porcentaje"
   ]
  },
  {
   "cell_type": "code",
   "execution_count": 37,
   "metadata": {},
   "outputs": [],
   "source": [
    "#palabra que más se repite talento con 27, formacion con 22, digital con 17"
   ]
  },
  {
   "cell_type": "code",
   "execution_count": 27,
   "metadata": {},
   "outputs": [
    {
     "name": "stdout",
     "output_type": "stream",
     "text": [
      "[('de', 271), ('y', 160), ('a', 146), ('en', 119), ('la', 110), ('el', 102), ('thebridge_tech', 86), ('más', 62), ('un', 57), ('con', 55), ('que', 52), ('1', 46), ('heavymental_es', 39), ('2', 39), ('es', 38), ('para', 36), ('las', 34), ('del', 33), ('https', 33), ('por', 29), ('the', 27), ('los', 27), ('talento', 27), ('no', 25), ('5', 25), ('bridge', 23), ('ly', 23), ('4', 22), ('formación', 22), ('ya', 19), ('bit', 19), ('una', 18), ('respuesta', 18), ('com', 18), ('digital', 17), ('si', 16), ('valencia', 16), ('primera', 16), ('lo', 16), ('3', 16), ('se', 16), ('gracias', 15), ('guillermodeharo', 15), ('1respondiendo', 14), ('convenio', 14), ('sus', 13), ('#ciberseguridad', 12), ('te', 12), ('2022', 12), ('nuevo', 12)]\n"
     ]
    }
   ],
   "source": [
    "from collections import Counter\n",
    "\n",
    "lista = list(data['Embedded_text_new'])\n",
    "len(lista)\n",
    "\n",
    "#for elem in lista:\n",
    "entrada = ''.join(lista)\n",
    "\n",
    "signos = \".,:;-[]{}()'\\\"@/¿?¡!\"\n",
    "a_espacios = str.maketrans(signos, \" \"*len(signos))\n",
    "palabras = str.translate(entrada, a_espacios).lower().split()\n",
    "contador = Counter(palabras)\n",
    "print(contador.most_common(50))"
   ]
  },
  {
   "cell_type": "code",
   "execution_count": 39,
   "metadata": {},
   "outputs": [],
   "source": [
    "# creo el database con dos tablas"
   ]
  },
  {
   "cell_type": "code",
   "execution_count": 28,
   "metadata": {},
   "outputs": [],
   "source": [
    "import sqlite3"
   ]
  },
  {
   "cell_type": "code",
   "execution_count": 29,
   "metadata": {},
   "outputs": [
    {
     "data": {
      "text/html": [
       "<div>\n",
       "<style scoped>\n",
       "    .dataframe tbody tr th:only-of-type {\n",
       "        vertical-align: middle;\n",
       "    }\n",
       "\n",
       "    .dataframe tbody tr th {\n",
       "        vertical-align: top;\n",
       "    }\n",
       "\n",
       "    .dataframe thead th {\n",
       "        text-align: right;\n",
       "    }\n",
       "</style>\n",
       "<table border=\"1\" class=\"dataframe\">\n",
       "  <thead>\n",
       "    <tr style=\"text-align: right;\">\n",
       "      <th></th>\n",
       "      <th>UserScreenName</th>\n",
       "      <th>UserName</th>\n",
       "      <th>Timestamp</th>\n",
       "      <th>Text</th>\n",
       "      <th>Embedded_text</th>\n",
       "      <th>Emojis</th>\n",
       "      <th>Comments</th>\n",
       "      <th>Likes</th>\n",
       "      <th>Retweets</th>\n",
       "      <th>Image link</th>\n",
       "      <th>Tweet URL</th>\n",
       "      <th>Month</th>\n",
       "      <th>Embedded_text_new</th>\n",
       "      <th>total_repercusion</th>\n",
       "    </tr>\n",
       "  </thead>\n",
       "  <tbody>\n",
       "    <tr>\n",
       "      <th>0</th>\n",
       "      <td>La Product Conf &amp; LPCx España</td>\n",
       "      <td>@LaProductConfES</td>\n",
       "      <td>2022-06-14 16:18:58+00:00</td>\n",
       "      <td>La Product Conf &amp; LPCx España\\n@LaProductConfE...</td>\n",
       "      <td>Aquí estamos  a punto de comenzar #LPCxMAD con...</td>\n",
       "      <td>😊 🙌</td>\n",
       "      <td>1.0</td>\n",
       "      <td>1.0</td>\n",
       "      <td>4.0</td>\n",
       "      <td>['https://pbs.twimg.com/media/FVOdWusWQAEu5sz?...</td>\n",
       "      <td>https://twitter.com/LaProductConfES/status/153...</td>\n",
       "      <td>6</td>\n",
       "      <td>Aquí estamos  a punto de comenzar #LPCxMAD con...</td>\n",
       "      <td>6.0</td>\n",
       "    </tr>\n",
       "    <tr>\n",
       "      <th>1</th>\n",
       "      <td>Heavy Mental</td>\n",
       "      <td>@HeavyMental_es</td>\n",
       "      <td>2022-06-13 11:33:09+00:00</td>\n",
       "      <td>Heavy Mental\\n@HeavyMental_es\\n·\\n13 jun.</td>\n",
       "      <td>Lo prometimos y han llegado gracias a \\n@TheBr...</td>\n",
       "      <td>👉</td>\n",
       "      <td>4.0</td>\n",
       "      <td>2.0</td>\n",
       "      <td>6.0</td>\n",
       "      <td>['https://pbs.twimg.com/profile_images/1546415...</td>\n",
       "      <td>https://twitter.com/HeavyMental_es/status/1536...</td>\n",
       "      <td>6</td>\n",
       "      <td>Lo prometimos y han llegado gracias a  @TheBri...</td>\n",
       "      <td>12.0</td>\n",
       "    </tr>\n",
       "    <tr>\n",
       "      <th>2</th>\n",
       "      <td>Javi Pérez Learning by doing.</td>\n",
       "      <td>@JaviMostoles</td>\n",
       "      <td>2022-06-13 11:42:21+00:00</td>\n",
       "      <td>Javi Pérez Learning by doing.\\n@JaviMostoles\\n...</td>\n",
       "      <td>Lo conseguí!!! Gracias \\n@TheBridge_Tech\\n  @H...</td>\n",
       "      <td>⚡ 😎 🦾 💻 📚 🚀 👉</td>\n",
       "      <td>0.0</td>\n",
       "      <td>0.0</td>\n",
       "      <td>1.0</td>\n",
       "      <td>['https://pbs.twimg.com/profile_images/1546415...</td>\n",
       "      <td>https://twitter.com/JaviMostoles/status/153631...</td>\n",
       "      <td>6</td>\n",
       "      <td>Lo conseguí!!! Gracias  @TheBridge_Tech   @Hea...</td>\n",
       "      <td>1.0</td>\n",
       "    </tr>\n",
       "    <tr>\n",
       "      <th>3</th>\n",
       "      <td>VLCTechHub</td>\n",
       "      <td>@VLCTechHub</td>\n",
       "      <td>2022-06-15 07:00:34+00:00</td>\n",
       "      <td>VLCTechHub\\n@VLCTechHub\\n·\\n15 jun.</td>\n",
       "      <td>Hoy \\n@TheBridge_Tech\\n a las 18:00: Taller Da...</td>\n",
       "      <td>NaN</td>\n",
       "      <td>0.0</td>\n",
       "      <td>1.0</td>\n",
       "      <td>1.0</td>\n",
       "      <td>[]</td>\n",
       "      <td>https://twitter.com/VLCTechHub/status/15369668...</td>\n",
       "      <td>6</td>\n",
       "      <td>Hoy  @TheBridge_Tech  a las 18:00: Taller Data...</td>\n",
       "      <td>2.0</td>\n",
       "    </tr>\n",
       "    <tr>\n",
       "      <th>4</th>\n",
       "      <td>Mulder</td>\n",
       "      <td>@Mulder01198676</td>\n",
       "      <td>2022-06-13 15:10:50+00:00</td>\n",
       "      <td>Mulder\\n@Mulder01198676\\n·\\n13 jun.</td>\n",
       "      <td>Respondiendo a \\n@HeavyMental_es\\n @TheBridge_...</td>\n",
       "      <td>NaN</td>\n",
       "      <td>0.0</td>\n",
       "      <td>0.0</td>\n",
       "      <td>2.0</td>\n",
       "      <td>['https://pbs.twimg.com/tweet_video_thumb/FVJE...</td>\n",
       "      <td>https://twitter.com/Mulder01198676/status/1536...</td>\n",
       "      <td>6</td>\n",
       "      <td>Respondiendo a  @HeavyMental_es  @TheBridge_Te...</td>\n",
       "      <td>2.0</td>\n",
       "    </tr>\n",
       "    <tr>\n",
       "      <th>...</th>\n",
       "      <td>...</td>\n",
       "      <td>...</td>\n",
       "      <td>...</td>\n",
       "      <td>...</td>\n",
       "      <td>...</td>\n",
       "      <td>...</td>\n",
       "      <td>...</td>\n",
       "      <td>...</td>\n",
       "      <td>...</td>\n",
       "      <td>...</td>\n",
       "      <td>...</td>\n",
       "      <td>...</td>\n",
       "      <td>...</td>\n",
       "      <td>...</td>\n",
       "    </tr>\n",
       "    <tr>\n",
       "      <th>133</th>\n",
       "      <td>PyData Madrid</td>\n",
       "      <td>@PyDataMadrid</td>\n",
       "      <td>2022-09-23 08:45:56+00:00</td>\n",
       "      <td>PyData Madrid\\n@PyDataMadrid\\n·\\n23 sept.</td>\n",
       "      <td>En respuesta a \\n@TheBridge_Tech\\n @valerybriz...</td>\n",
       "      <td>🔥</td>\n",
       "      <td>0.0</td>\n",
       "      <td>0.0</td>\n",
       "      <td>1.0</td>\n",
       "      <td>[]</td>\n",
       "      <td>https://twitter.com/PyDataMadrid/status/157323...</td>\n",
       "      <td>9</td>\n",
       "      <td>En respuesta a  @TheBridge_Tech  @valerybriz  ...</td>\n",
       "      <td>1.0</td>\n",
       "    </tr>\n",
       "    <tr>\n",
       "      <th>134</th>\n",
       "      <td>The Bridge</td>\n",
       "      <td>@TheBridge_Tech</td>\n",
       "      <td>2022-09-28 10:46:00+00:00</td>\n",
       "      <td>The Bridge\\n@TheBridge_Tech\\n·\\n28 sept.</td>\n",
       "      <td>¡Nuevo acuerdo de colaboración con \\n@michaelp...</td>\n",
       "      <td>🤝</td>\n",
       "      <td>0.0</td>\n",
       "      <td>1.0</td>\n",
       "      <td>4.0</td>\n",
       "      <td>['https://pbs.twimg.com/media/FdFH7u6XEAA4bRf?...</td>\n",
       "      <td>https://twitter.com/TheBridge_Tech/status/1575...</td>\n",
       "      <td>9</td>\n",
       "      <td>¡Nuevo acuerdo de colaboración con  @michaelpa...</td>\n",
       "      <td>5.0</td>\n",
       "    </tr>\n",
       "    <tr>\n",
       "      <th>135</th>\n",
       "      <td>Berta Otero</td>\n",
       "      <td>@bertinha84</td>\n",
       "      <td>2022-09-28 20:14:18+00:00</td>\n",
       "      <td>Berta Otero\\n@bertinha84\\n·\\n28 sept.</td>\n",
       "      <td>Hoy por fin ve la luz mi primer Case Study púb...</td>\n",
       "      <td>NaN</td>\n",
       "      <td>0.0</td>\n",
       "      <td>3.0</td>\n",
       "      <td>4.0</td>\n",
       "      <td>['https://pbs.twimg.com/media/FdxLlU_WAAMBuCl?...</td>\n",
       "      <td>https://twitter.com/bertinha84/status/15752173...</td>\n",
       "      <td>9</td>\n",
       "      <td>Hoy por fin ve la luz mi primer Case Study púb...</td>\n",
       "      <td>7.0</td>\n",
       "    </tr>\n",
       "    <tr>\n",
       "      <th>136</th>\n",
       "      <td>The Bridge</td>\n",
       "      <td>@TheBridge_Tech</td>\n",
       "      <td>2022-09-26 07:58:25+00:00</td>\n",
       "      <td>The Bridge\\n@TheBridge_Tech\\n·\\n26 sept.</td>\n",
       "      <td>¡Estamos muy orgullosos de formar equipo junto...</td>\n",
       "      <td>NaN</td>\n",
       "      <td>0.0</td>\n",
       "      <td>2.0</td>\n",
       "      <td>3.0</td>\n",
       "      <td>['https://pbs.twimg.com/profile_images/1558693...</td>\n",
       "      <td>https://twitter.com/TheBridge_Tech/status/1574...</td>\n",
       "      <td>9</td>\n",
       "      <td>¡Estamos muy orgullosos de formar equipo junto...</td>\n",
       "      <td>5.0</td>\n",
       "    </tr>\n",
       "    <tr>\n",
       "      <th>137</th>\n",
       "      <td>Apiux Tecnología</td>\n",
       "      <td>@Apiuxtecnologia</td>\n",
       "      <td>2022-09-27 19:51:59+00:00</td>\n",
       "      <td>Apiux Tecnología\\n@Apiuxtecnologia\\n·\\n27 sept.</td>\n",
       "      <td>¿Eres o quieres ser talento IT y estás en Espa...</td>\n",
       "      <td>💻 🥳</td>\n",
       "      <td>1.0</td>\n",
       "      <td>1.0</td>\n",
       "      <td>2.0</td>\n",
       "      <td>[]</td>\n",
       "      <td>https://twitter.com/Apiuxtecnologia/status/157...</td>\n",
       "      <td>9</td>\n",
       "      <td>¿Eres o quieres ser talento IT y estás en Espa...</td>\n",
       "      <td>4.0</td>\n",
       "    </tr>\n",
       "  </tbody>\n",
       "</table>\n",
       "<p>138 rows × 14 columns</p>\n",
       "</div>"
      ],
      "text/plain": [
       "                    UserScreenName          UserName  \\\n",
       "0    La Product Conf & LPCx España  @LaProductConfES   \n",
       "1                     Heavy Mental   @HeavyMental_es   \n",
       "2    Javi Pérez Learning by doing.     @JaviMostoles   \n",
       "3                       VLCTechHub       @VLCTechHub   \n",
       "4                           Mulder   @Mulder01198676   \n",
       "..                             ...               ...   \n",
       "133                  PyData Madrid     @PyDataMadrid   \n",
       "134                     The Bridge   @TheBridge_Tech   \n",
       "135                    Berta Otero       @bertinha84   \n",
       "136                     The Bridge   @TheBridge_Tech   \n",
       "137               Apiux Tecnología  @Apiuxtecnologia   \n",
       "\n",
       "                    Timestamp  \\\n",
       "0   2022-06-14 16:18:58+00:00   \n",
       "1   2022-06-13 11:33:09+00:00   \n",
       "2   2022-06-13 11:42:21+00:00   \n",
       "3   2022-06-15 07:00:34+00:00   \n",
       "4   2022-06-13 15:10:50+00:00   \n",
       "..                        ...   \n",
       "133 2022-09-23 08:45:56+00:00   \n",
       "134 2022-09-28 10:46:00+00:00   \n",
       "135 2022-09-28 20:14:18+00:00   \n",
       "136 2022-09-26 07:58:25+00:00   \n",
       "137 2022-09-27 19:51:59+00:00   \n",
       "\n",
       "                                                  Text  \\\n",
       "0    La Product Conf & LPCx España\\n@LaProductConfE...   \n",
       "1            Heavy Mental\\n@HeavyMental_es\\n·\\n13 jun.   \n",
       "2    Javi Pérez Learning by doing.\\n@JaviMostoles\\n...   \n",
       "3                  VLCTechHub\\n@VLCTechHub\\n·\\n15 jun.   \n",
       "4                  Mulder\\n@Mulder01198676\\n·\\n13 jun.   \n",
       "..                                                 ...   \n",
       "133          PyData Madrid\\n@PyDataMadrid\\n·\\n23 sept.   \n",
       "134           The Bridge\\n@TheBridge_Tech\\n·\\n28 sept.   \n",
       "135              Berta Otero\\n@bertinha84\\n·\\n28 sept.   \n",
       "136           The Bridge\\n@TheBridge_Tech\\n·\\n26 sept.   \n",
       "137    Apiux Tecnología\\n@Apiuxtecnologia\\n·\\n27 sept.   \n",
       "\n",
       "                                         Embedded_text         Emojis  \\\n",
       "0    Aquí estamos  a punto de comenzar #LPCxMAD con...            😊 🙌   \n",
       "1    Lo prometimos y han llegado gracias a \\n@TheBr...              👉   \n",
       "2    Lo conseguí!!! Gracias \\n@TheBridge_Tech\\n  @H...  ⚡ 😎 🦾 💻 📚 🚀 👉   \n",
       "3    Hoy \\n@TheBridge_Tech\\n a las 18:00: Taller Da...            NaN   \n",
       "4    Respondiendo a \\n@HeavyMental_es\\n @TheBridge_...            NaN   \n",
       "..                                                 ...            ...   \n",
       "133  En respuesta a \\n@TheBridge_Tech\\n @valerybriz...              🔥   \n",
       "134  ¡Nuevo acuerdo de colaboración con \\n@michaelp...              🤝   \n",
       "135  Hoy por fin ve la luz mi primer Case Study púb...            NaN   \n",
       "136  ¡Estamos muy orgullosos de formar equipo junto...            NaN   \n",
       "137  ¿Eres o quieres ser talento IT y estás en Espa...            💻 🥳   \n",
       "\n",
       "     Comments  Likes  Retweets  \\\n",
       "0         1.0    1.0       4.0   \n",
       "1         4.0    2.0       6.0   \n",
       "2         0.0    0.0       1.0   \n",
       "3         0.0    1.0       1.0   \n",
       "4         0.0    0.0       2.0   \n",
       "..        ...    ...       ...   \n",
       "133       0.0    0.0       1.0   \n",
       "134       0.0    1.0       4.0   \n",
       "135       0.0    3.0       4.0   \n",
       "136       0.0    2.0       3.0   \n",
       "137       1.0    1.0       2.0   \n",
       "\n",
       "                                            Image link  \\\n",
       "0    ['https://pbs.twimg.com/media/FVOdWusWQAEu5sz?...   \n",
       "1    ['https://pbs.twimg.com/profile_images/1546415...   \n",
       "2    ['https://pbs.twimg.com/profile_images/1546415...   \n",
       "3                                                   []   \n",
       "4    ['https://pbs.twimg.com/tweet_video_thumb/FVJE...   \n",
       "..                                                 ...   \n",
       "133                                                 []   \n",
       "134  ['https://pbs.twimg.com/media/FdFH7u6XEAA4bRf?...   \n",
       "135  ['https://pbs.twimg.com/media/FdxLlU_WAAMBuCl?...   \n",
       "136  ['https://pbs.twimg.com/profile_images/1558693...   \n",
       "137                                                 []   \n",
       "\n",
       "                                             Tweet URL  Month  \\\n",
       "0    https://twitter.com/LaProductConfES/status/153...      6   \n",
       "1    https://twitter.com/HeavyMental_es/status/1536...      6   \n",
       "2    https://twitter.com/JaviMostoles/status/153631...      6   \n",
       "3    https://twitter.com/VLCTechHub/status/15369668...      6   \n",
       "4    https://twitter.com/Mulder01198676/status/1536...      6   \n",
       "..                                                 ...    ...   \n",
       "133  https://twitter.com/PyDataMadrid/status/157323...      9   \n",
       "134  https://twitter.com/TheBridge_Tech/status/1575...      9   \n",
       "135  https://twitter.com/bertinha84/status/15752173...      9   \n",
       "136  https://twitter.com/TheBridge_Tech/status/1574...      9   \n",
       "137  https://twitter.com/Apiuxtecnologia/status/157...      9   \n",
       "\n",
       "                                     Embedded_text_new  total_repercusion  \n",
       "0    Aquí estamos  a punto de comenzar #LPCxMAD con...                6.0  \n",
       "1    Lo prometimos y han llegado gracias a  @TheBri...               12.0  \n",
       "2    Lo conseguí!!! Gracias  @TheBridge_Tech   @Hea...                1.0  \n",
       "3    Hoy  @TheBridge_Tech  a las 18:00: Taller Data...                2.0  \n",
       "4    Respondiendo a  @HeavyMental_es  @TheBridge_Te...                2.0  \n",
       "..                                                 ...                ...  \n",
       "133  En respuesta a  @TheBridge_Tech  @valerybriz  ...                1.0  \n",
       "134  ¡Nuevo acuerdo de colaboración con  @michaelpa...                5.0  \n",
       "135  Hoy por fin ve la luz mi primer Case Study púb...                7.0  \n",
       "136  ¡Estamos muy orgullosos de formar equipo junto...                5.0  \n",
       "137  ¿Eres o quieres ser talento IT y estás en Espa...                4.0  \n",
       "\n",
       "[138 rows x 14 columns]"
      ]
     },
     "execution_count": 29,
     "metadata": {},
     "output_type": "execute_result"
    }
   ],
   "source": [
    "data"
   ]
  },
  {
   "cell_type": "code",
   "execution_count": 30,
   "metadata": {},
   "outputs": [],
   "source": [
    "data['text'] = data['Embedded_text_new']"
   ]
  },
  {
   "cell_type": "code",
   "execution_count": 31,
   "metadata": {},
   "outputs": [],
   "source": [
    "data.drop(columns = ['Text','Embedded_text','Embedded_text_new'], inplace=True)"
   ]
  },
  {
   "cell_type": "code",
   "execution_count": 32,
   "metadata": {},
   "outputs": [],
   "source": [
    "data.drop(columns = ['Image link','Tweet URL'], inplace=True)"
   ]
  },
  {
   "cell_type": "code",
   "execution_count": 33,
   "metadata": {},
   "outputs": [],
   "source": [
    "data.drop(columns = ['Emojis'], inplace=True)"
   ]
  },
  {
   "cell_type": "code",
   "execution_count": 34,
   "metadata": {},
   "outputs": [
    {
     "data": {
      "text/html": [
       "<div>\n",
       "<style scoped>\n",
       "    .dataframe tbody tr th:only-of-type {\n",
       "        vertical-align: middle;\n",
       "    }\n",
       "\n",
       "    .dataframe tbody tr th {\n",
       "        vertical-align: top;\n",
       "    }\n",
       "\n",
       "    .dataframe thead th {\n",
       "        text-align: right;\n",
       "    }\n",
       "</style>\n",
       "<table border=\"1\" class=\"dataframe\">\n",
       "  <thead>\n",
       "    <tr style=\"text-align: right;\">\n",
       "      <th></th>\n",
       "      <th>UserScreenName</th>\n",
       "      <th>UserName</th>\n",
       "      <th>Timestamp</th>\n",
       "      <th>Comments</th>\n",
       "      <th>Likes</th>\n",
       "      <th>Retweets</th>\n",
       "      <th>Month</th>\n",
       "      <th>total_repercusion</th>\n",
       "      <th>text</th>\n",
       "    </tr>\n",
       "  </thead>\n",
       "  <tbody>\n",
       "    <tr>\n",
       "      <th>0</th>\n",
       "      <td>La Product Conf &amp; LPCx España</td>\n",
       "      <td>@LaProductConfES</td>\n",
       "      <td>2022-06-14 16:18:58+00:00</td>\n",
       "      <td>1.0</td>\n",
       "      <td>1.0</td>\n",
       "      <td>4.0</td>\n",
       "      <td>6</td>\n",
       "      <td>6.0</td>\n",
       "      <td>Aquí estamos  a punto de comenzar #LPCxMAD con...</td>\n",
       "    </tr>\n",
       "    <tr>\n",
       "      <th>1</th>\n",
       "      <td>Heavy Mental</td>\n",
       "      <td>@HeavyMental_es</td>\n",
       "      <td>2022-06-13 11:33:09+00:00</td>\n",
       "      <td>4.0</td>\n",
       "      <td>2.0</td>\n",
       "      <td>6.0</td>\n",
       "      <td>6</td>\n",
       "      <td>12.0</td>\n",
       "      <td>Lo prometimos y han llegado gracias a  @TheBri...</td>\n",
       "    </tr>\n",
       "    <tr>\n",
       "      <th>2</th>\n",
       "      <td>Javi Pérez Learning by doing.</td>\n",
       "      <td>@JaviMostoles</td>\n",
       "      <td>2022-06-13 11:42:21+00:00</td>\n",
       "      <td>0.0</td>\n",
       "      <td>0.0</td>\n",
       "      <td>1.0</td>\n",
       "      <td>6</td>\n",
       "      <td>1.0</td>\n",
       "      <td>Lo conseguí!!! Gracias  @TheBridge_Tech   @Hea...</td>\n",
       "    </tr>\n",
       "    <tr>\n",
       "      <th>3</th>\n",
       "      <td>VLCTechHub</td>\n",
       "      <td>@VLCTechHub</td>\n",
       "      <td>2022-06-15 07:00:34+00:00</td>\n",
       "      <td>0.0</td>\n",
       "      <td>1.0</td>\n",
       "      <td>1.0</td>\n",
       "      <td>6</td>\n",
       "      <td>2.0</td>\n",
       "      <td>Hoy  @TheBridge_Tech  a las 18:00: Taller Data...</td>\n",
       "    </tr>\n",
       "    <tr>\n",
       "      <th>4</th>\n",
       "      <td>Mulder</td>\n",
       "      <td>@Mulder01198676</td>\n",
       "      <td>2022-06-13 15:10:50+00:00</td>\n",
       "      <td>0.0</td>\n",
       "      <td>0.0</td>\n",
       "      <td>2.0</td>\n",
       "      <td>6</td>\n",
       "      <td>2.0</td>\n",
       "      <td>Respondiendo a  @HeavyMental_es  @TheBridge_Te...</td>\n",
       "    </tr>\n",
       "    <tr>\n",
       "      <th>...</th>\n",
       "      <td>...</td>\n",
       "      <td>...</td>\n",
       "      <td>...</td>\n",
       "      <td>...</td>\n",
       "      <td>...</td>\n",
       "      <td>...</td>\n",
       "      <td>...</td>\n",
       "      <td>...</td>\n",
       "      <td>...</td>\n",
       "    </tr>\n",
       "    <tr>\n",
       "      <th>133</th>\n",
       "      <td>PyData Madrid</td>\n",
       "      <td>@PyDataMadrid</td>\n",
       "      <td>2022-09-23 08:45:56+00:00</td>\n",
       "      <td>0.0</td>\n",
       "      <td>0.0</td>\n",
       "      <td>1.0</td>\n",
       "      <td>9</td>\n",
       "      <td>1.0</td>\n",
       "      <td>En respuesta a  @TheBridge_Tech  @valerybriz  ...</td>\n",
       "    </tr>\n",
       "    <tr>\n",
       "      <th>134</th>\n",
       "      <td>The Bridge</td>\n",
       "      <td>@TheBridge_Tech</td>\n",
       "      <td>2022-09-28 10:46:00+00:00</td>\n",
       "      <td>0.0</td>\n",
       "      <td>1.0</td>\n",
       "      <td>4.0</td>\n",
       "      <td>9</td>\n",
       "      <td>5.0</td>\n",
       "      <td>¡Nuevo acuerdo de colaboración con  @michaelpa...</td>\n",
       "    </tr>\n",
       "    <tr>\n",
       "      <th>135</th>\n",
       "      <td>Berta Otero</td>\n",
       "      <td>@bertinha84</td>\n",
       "      <td>2022-09-28 20:14:18+00:00</td>\n",
       "      <td>0.0</td>\n",
       "      <td>3.0</td>\n",
       "      <td>4.0</td>\n",
       "      <td>9</td>\n",
       "      <td>7.0</td>\n",
       "      <td>Hoy por fin ve la luz mi primer Case Study púb...</td>\n",
       "    </tr>\n",
       "    <tr>\n",
       "      <th>136</th>\n",
       "      <td>The Bridge</td>\n",
       "      <td>@TheBridge_Tech</td>\n",
       "      <td>2022-09-26 07:58:25+00:00</td>\n",
       "      <td>0.0</td>\n",
       "      <td>2.0</td>\n",
       "      <td>3.0</td>\n",
       "      <td>9</td>\n",
       "      <td>5.0</td>\n",
       "      <td>¡Estamos muy orgullosos de formar equipo junto...</td>\n",
       "    </tr>\n",
       "    <tr>\n",
       "      <th>137</th>\n",
       "      <td>Apiux Tecnología</td>\n",
       "      <td>@Apiuxtecnologia</td>\n",
       "      <td>2022-09-27 19:51:59+00:00</td>\n",
       "      <td>1.0</td>\n",
       "      <td>1.0</td>\n",
       "      <td>2.0</td>\n",
       "      <td>9</td>\n",
       "      <td>4.0</td>\n",
       "      <td>¿Eres o quieres ser talento IT y estás en Espa...</td>\n",
       "    </tr>\n",
       "  </tbody>\n",
       "</table>\n",
       "<p>138 rows × 9 columns</p>\n",
       "</div>"
      ],
      "text/plain": [
       "                    UserScreenName          UserName  \\\n",
       "0    La Product Conf & LPCx España  @LaProductConfES   \n",
       "1                     Heavy Mental   @HeavyMental_es   \n",
       "2    Javi Pérez Learning by doing.     @JaviMostoles   \n",
       "3                       VLCTechHub       @VLCTechHub   \n",
       "4                           Mulder   @Mulder01198676   \n",
       "..                             ...               ...   \n",
       "133                  PyData Madrid     @PyDataMadrid   \n",
       "134                     The Bridge   @TheBridge_Tech   \n",
       "135                    Berta Otero       @bertinha84   \n",
       "136                     The Bridge   @TheBridge_Tech   \n",
       "137               Apiux Tecnología  @Apiuxtecnologia   \n",
       "\n",
       "                    Timestamp  Comments  Likes  Retweets  Month  \\\n",
       "0   2022-06-14 16:18:58+00:00       1.0    1.0       4.0      6   \n",
       "1   2022-06-13 11:33:09+00:00       4.0    2.0       6.0      6   \n",
       "2   2022-06-13 11:42:21+00:00       0.0    0.0       1.0      6   \n",
       "3   2022-06-15 07:00:34+00:00       0.0    1.0       1.0      6   \n",
       "4   2022-06-13 15:10:50+00:00       0.0    0.0       2.0      6   \n",
       "..                        ...       ...    ...       ...    ...   \n",
       "133 2022-09-23 08:45:56+00:00       0.0    0.0       1.0      9   \n",
       "134 2022-09-28 10:46:00+00:00       0.0    1.0       4.0      9   \n",
       "135 2022-09-28 20:14:18+00:00       0.0    3.0       4.0      9   \n",
       "136 2022-09-26 07:58:25+00:00       0.0    2.0       3.0      9   \n",
       "137 2022-09-27 19:51:59+00:00       1.0    1.0       2.0      9   \n",
       "\n",
       "     total_repercusion                                               text  \n",
       "0                  6.0  Aquí estamos  a punto de comenzar #LPCxMAD con...  \n",
       "1                 12.0  Lo prometimos y han llegado gracias a  @TheBri...  \n",
       "2                  1.0  Lo conseguí!!! Gracias  @TheBridge_Tech   @Hea...  \n",
       "3                  2.0  Hoy  @TheBridge_Tech  a las 18:00: Taller Data...  \n",
       "4                  2.0  Respondiendo a  @HeavyMental_es  @TheBridge_Te...  \n",
       "..                 ...                                                ...  \n",
       "133                1.0  En respuesta a  @TheBridge_Tech  @valerybriz  ...  \n",
       "134                5.0  ¡Nuevo acuerdo de colaboración con  @michaelpa...  \n",
       "135                7.0  Hoy por fin ve la luz mi primer Case Study púb...  \n",
       "136                5.0  ¡Estamos muy orgullosos de formar equipo junto...  \n",
       "137                4.0  ¿Eres o quieres ser talento IT y estás en Espa...  \n",
       "\n",
       "[138 rows x 9 columns]"
      ]
     },
     "execution_count": 34,
     "metadata": {},
     "output_type": "execute_result"
    }
   ],
   "source": [
    "data"
   ]
  },
  {
   "cell_type": "code",
   "execution_count": 61,
   "metadata": {},
   "outputs": [
    {
     "data": {
      "text/html": [
       "<div>\n",
       "<style scoped>\n",
       "    .dataframe tbody tr th:only-of-type {\n",
       "        vertical-align: middle;\n",
       "    }\n",
       "\n",
       "    .dataframe tbody tr th {\n",
       "        vertical-align: top;\n",
       "    }\n",
       "\n",
       "    .dataframe thead th {\n",
       "        text-align: right;\n",
       "    }\n",
       "</style>\n",
       "<table border=\"1\" class=\"dataframe\">\n",
       "  <thead>\n",
       "    <tr style=\"text-align: right;\">\n",
       "      <th></th>\n",
       "      <th>text</th>\n",
       "      <th>UserScreenName</th>\n",
       "      <th>Comments</th>\n",
       "      <th>Likes</th>\n",
       "      <th>Retweets</th>\n",
       "      <th>Timestamp</th>\n",
       "    </tr>\n",
       "  </thead>\n",
       "  <tbody>\n",
       "    <tr>\n",
       "      <th>0</th>\n",
       "      <td>Aquí estamos  a punto de comenzar #LPCxMAD con...</td>\n",
       "      <td>La Product Conf &amp; LPCx España</td>\n",
       "      <td>1.0</td>\n",
       "      <td>1.0</td>\n",
       "      <td>4.0</td>\n",
       "      <td>2022-06-14 16:18:58+00:00</td>\n",
       "    </tr>\n",
       "    <tr>\n",
       "      <th>1</th>\n",
       "      <td>Lo prometimos y han llegado gracias a  @TheBri...</td>\n",
       "      <td>Heavy Mental</td>\n",
       "      <td>4.0</td>\n",
       "      <td>2.0</td>\n",
       "      <td>6.0</td>\n",
       "      <td>2022-06-13 11:33:09+00:00</td>\n",
       "    </tr>\n",
       "    <tr>\n",
       "      <th>2</th>\n",
       "      <td>Lo conseguí!!! Gracias  @TheBridge_Tech   @Hea...</td>\n",
       "      <td>Javi Pérez Learning by doing.</td>\n",
       "      <td>0.0</td>\n",
       "      <td>0.0</td>\n",
       "      <td>1.0</td>\n",
       "      <td>2022-06-13 11:42:21+00:00</td>\n",
       "    </tr>\n",
       "    <tr>\n",
       "      <th>3</th>\n",
       "      <td>Hoy  @TheBridge_Tech  a las 18:00: Taller Data...</td>\n",
       "      <td>VLCTechHub</td>\n",
       "      <td>0.0</td>\n",
       "      <td>1.0</td>\n",
       "      <td>1.0</td>\n",
       "      <td>2022-06-15 07:00:34+00:00</td>\n",
       "    </tr>\n",
       "    <tr>\n",
       "      <th>4</th>\n",
       "      <td>Respondiendo a  @HeavyMental_es  @TheBridge_Te...</td>\n",
       "      <td>Mulder</td>\n",
       "      <td>0.0</td>\n",
       "      <td>0.0</td>\n",
       "      <td>2.0</td>\n",
       "      <td>2022-06-13 15:10:50+00:00</td>\n",
       "    </tr>\n",
       "    <tr>\n",
       "      <th>...</th>\n",
       "      <td>...</td>\n",
       "      <td>...</td>\n",
       "      <td>...</td>\n",
       "      <td>...</td>\n",
       "      <td>...</td>\n",
       "      <td>...</td>\n",
       "    </tr>\n",
       "    <tr>\n",
       "      <th>133</th>\n",
       "      <td>En respuesta a  @TheBridge_Tech  @valerybriz  ...</td>\n",
       "      <td>PyData Madrid</td>\n",
       "      <td>0.0</td>\n",
       "      <td>0.0</td>\n",
       "      <td>1.0</td>\n",
       "      <td>2022-09-23 08:45:56+00:00</td>\n",
       "    </tr>\n",
       "    <tr>\n",
       "      <th>134</th>\n",
       "      <td>¡Nuevo acuerdo de colaboración con  @michaelpa...</td>\n",
       "      <td>The Bridge</td>\n",
       "      <td>0.0</td>\n",
       "      <td>1.0</td>\n",
       "      <td>4.0</td>\n",
       "      <td>2022-09-28 10:46:00+00:00</td>\n",
       "    </tr>\n",
       "    <tr>\n",
       "      <th>135</th>\n",
       "      <td>Hoy por fin ve la luz mi primer Case Study púb...</td>\n",
       "      <td>Berta Otero</td>\n",
       "      <td>0.0</td>\n",
       "      <td>3.0</td>\n",
       "      <td>4.0</td>\n",
       "      <td>2022-09-28 20:14:18+00:00</td>\n",
       "    </tr>\n",
       "    <tr>\n",
       "      <th>136</th>\n",
       "      <td>¡Estamos muy orgullosos de formar equipo junto...</td>\n",
       "      <td>The Bridge</td>\n",
       "      <td>0.0</td>\n",
       "      <td>2.0</td>\n",
       "      <td>3.0</td>\n",
       "      <td>2022-09-26 07:58:25+00:00</td>\n",
       "    </tr>\n",
       "    <tr>\n",
       "      <th>137</th>\n",
       "      <td>¿Eres o quieres ser talento IT y estás en Espa...</td>\n",
       "      <td>Apiux Tecnología</td>\n",
       "      <td>1.0</td>\n",
       "      <td>1.0</td>\n",
       "      <td>2.0</td>\n",
       "      <td>2022-09-27 19:51:59+00:00</td>\n",
       "    </tr>\n",
       "  </tbody>\n",
       "</table>\n",
       "<p>138 rows × 6 columns</p>\n",
       "</div>"
      ],
      "text/plain": [
       "                                                  text  \\\n",
       "0    Aquí estamos  a punto de comenzar #LPCxMAD con...   \n",
       "1    Lo prometimos y han llegado gracias a  @TheBri...   \n",
       "2    Lo conseguí!!! Gracias  @TheBridge_Tech   @Hea...   \n",
       "3    Hoy  @TheBridge_Tech  a las 18:00: Taller Data...   \n",
       "4    Respondiendo a  @HeavyMental_es  @TheBridge_Te...   \n",
       "..                                                 ...   \n",
       "133  En respuesta a  @TheBridge_Tech  @valerybriz  ...   \n",
       "134  ¡Nuevo acuerdo de colaboración con  @michaelpa...   \n",
       "135  Hoy por fin ve la luz mi primer Case Study púb...   \n",
       "136  ¡Estamos muy orgullosos de formar equipo junto...   \n",
       "137  ¿Eres o quieres ser talento IT y estás en Espa...   \n",
       "\n",
       "                    UserScreenName  Comments  Likes  Retweets  \\\n",
       "0    La Product Conf & LPCx España       1.0    1.0       4.0   \n",
       "1                     Heavy Mental       4.0    2.0       6.0   \n",
       "2    Javi Pérez Learning by doing.       0.0    0.0       1.0   \n",
       "3                       VLCTechHub       0.0    1.0       1.0   \n",
       "4                           Mulder       0.0    0.0       2.0   \n",
       "..                             ...       ...    ...       ...   \n",
       "133                  PyData Madrid       0.0    0.0       1.0   \n",
       "134                     The Bridge       0.0    1.0       4.0   \n",
       "135                    Berta Otero       0.0    3.0       4.0   \n",
       "136                     The Bridge       0.0    2.0       3.0   \n",
       "137               Apiux Tecnología       1.0    1.0       2.0   \n",
       "\n",
       "                    Timestamp  \n",
       "0   2022-06-14 16:18:58+00:00  \n",
       "1   2022-06-13 11:33:09+00:00  \n",
       "2   2022-06-13 11:42:21+00:00  \n",
       "3   2022-06-15 07:00:34+00:00  \n",
       "4   2022-06-13 15:10:50+00:00  \n",
       "..                        ...  \n",
       "133 2022-09-23 08:45:56+00:00  \n",
       "134 2022-09-28 10:46:00+00:00  \n",
       "135 2022-09-28 20:14:18+00:00  \n",
       "136 2022-09-26 07:58:25+00:00  \n",
       "137 2022-09-27 19:51:59+00:00  \n",
       "\n",
       "[138 rows x 6 columns]"
      ]
     },
     "execution_count": 61,
     "metadata": {},
     "output_type": "execute_result"
    }
   ],
   "source": [
    "tweets = data[['text','UserScreenName', 'Comments', 'Likes', 'Retweets', 'Timestamp']]\n",
    "tweets"
   ]
  },
  {
   "cell_type": "code",
   "execution_count": 62,
   "metadata": {},
   "outputs": [],
   "source": [
    "tweeetss=tweets.applymap(str)"
   ]
  },
  {
   "cell_type": "code",
   "execution_count": 37,
   "metadata": {},
   "outputs": [
    {
     "name": "stdout",
     "output_type": "stream",
     "text": [
      "<class 'pandas.core.frame.DataFrame'>\n",
      "Int64Index: 138 entries, 0 to 137\n",
      "Data columns (total 6 columns):\n",
      " #   Column          Non-Null Count  Dtype \n",
      "---  ------          --------------  ----- \n",
      " 0   text            138 non-null    object\n",
      " 1   UserScreenName  138 non-null    object\n",
      " 2   Comments        138 non-null    object\n",
      " 3   Likes           138 non-null    object\n",
      " 4   Retweets        138 non-null    object\n",
      " 5   Timestamp       138 non-null    object\n",
      "dtypes: object(6)\n",
      "memory usage: 7.5+ KB\n"
     ]
    }
   ],
   "source": [
    "tweeetss.info()"
   ]
  },
  {
   "cell_type": "code",
   "execution_count": 38,
   "metadata": {},
   "outputs": [],
   "source": [
    "lista3 =tweeetss.values.tolist()"
   ]
  },
  {
   "cell_type": "code",
   "execution_count": 39,
   "metadata": {},
   "outputs": [
    {
     "data": {
      "text/html": [
       "<div>\n",
       "<style scoped>\n",
       "    .dataframe tbody tr th:only-of-type {\n",
       "        vertical-align: middle;\n",
       "    }\n",
       "\n",
       "    .dataframe tbody tr th {\n",
       "        vertical-align: top;\n",
       "    }\n",
       "\n",
       "    .dataframe thead th {\n",
       "        text-align: right;\n",
       "    }\n",
       "</style>\n",
       "<table border=\"1\" class=\"dataframe\">\n",
       "  <thead>\n",
       "    <tr style=\"text-align: right;\">\n",
       "      <th></th>\n",
       "      <th>UserScreenName</th>\n",
       "      <th>UserName</th>\n",
       "    </tr>\n",
       "  </thead>\n",
       "  <tbody>\n",
       "    <tr>\n",
       "      <th>0</th>\n",
       "      <td>La Product Conf &amp; LPCx España</td>\n",
       "      <td>@LaProductConfES</td>\n",
       "    </tr>\n",
       "    <tr>\n",
       "      <th>1</th>\n",
       "      <td>Heavy Mental</td>\n",
       "      <td>@HeavyMental_es</td>\n",
       "    </tr>\n",
       "    <tr>\n",
       "      <th>2</th>\n",
       "      <td>Javi Pérez Learning by doing.</td>\n",
       "      <td>@JaviMostoles</td>\n",
       "    </tr>\n",
       "    <tr>\n",
       "      <th>3</th>\n",
       "      <td>VLCTechHub</td>\n",
       "      <td>@VLCTechHub</td>\n",
       "    </tr>\n",
       "    <tr>\n",
       "      <th>4</th>\n",
       "      <td>Mulder</td>\n",
       "      <td>@Mulder01198676</td>\n",
       "    </tr>\n",
       "    <tr>\n",
       "      <th>...</th>\n",
       "      <td>...</td>\n",
       "      <td>...</td>\n",
       "    </tr>\n",
       "    <tr>\n",
       "      <th>133</th>\n",
       "      <td>PyData Madrid</td>\n",
       "      <td>@PyDataMadrid</td>\n",
       "    </tr>\n",
       "    <tr>\n",
       "      <th>134</th>\n",
       "      <td>The Bridge</td>\n",
       "      <td>@TheBridge_Tech</td>\n",
       "    </tr>\n",
       "    <tr>\n",
       "      <th>135</th>\n",
       "      <td>Berta Otero</td>\n",
       "      <td>@bertinha84</td>\n",
       "    </tr>\n",
       "    <tr>\n",
       "      <th>136</th>\n",
       "      <td>The Bridge</td>\n",
       "      <td>@TheBridge_Tech</td>\n",
       "    </tr>\n",
       "    <tr>\n",
       "      <th>137</th>\n",
       "      <td>Apiux Tecnología</td>\n",
       "      <td>@Apiuxtecnologia</td>\n",
       "    </tr>\n",
       "  </tbody>\n",
       "</table>\n",
       "<p>138 rows × 2 columns</p>\n",
       "</div>"
      ],
      "text/plain": [
       "                    UserScreenName          UserName\n",
       "0    La Product Conf & LPCx España  @LaProductConfES\n",
       "1                     Heavy Mental   @HeavyMental_es\n",
       "2    Javi Pérez Learning by doing.     @JaviMostoles\n",
       "3                       VLCTechHub       @VLCTechHub\n",
       "4                           Mulder   @Mulder01198676\n",
       "..                             ...               ...\n",
       "133                  PyData Madrid     @PyDataMadrid\n",
       "134                     The Bridge   @TheBridge_Tech\n",
       "135                    Berta Otero       @bertinha84\n",
       "136                     The Bridge   @TheBridge_Tech\n",
       "137               Apiux Tecnología  @Apiuxtecnologia\n",
       "\n",
       "[138 rows x 2 columns]"
      ]
     },
     "execution_count": 39,
     "metadata": {},
     "output_type": "execute_result"
    }
   ],
   "source": [
    "usuarios= data[['UserScreenName','UserName']]\n",
    "usuarios"
   ]
  },
  {
   "cell_type": "code",
   "execution_count": 40,
   "metadata": {},
   "outputs": [],
   "source": [
    "usuarios = usuarios.drop_duplicates(ignore_index=True)"
   ]
  },
  {
   "cell_type": "code",
   "execution_count": 41,
   "metadata": {},
   "outputs": [
    {
     "data": {
      "text/html": [
       "<div>\n",
       "<style scoped>\n",
       "    .dataframe tbody tr th:only-of-type {\n",
       "        vertical-align: middle;\n",
       "    }\n",
       "\n",
       "    .dataframe tbody tr th {\n",
       "        vertical-align: top;\n",
       "    }\n",
       "\n",
       "    .dataframe thead th {\n",
       "        text-align: right;\n",
       "    }\n",
       "</style>\n",
       "<table border=\"1\" class=\"dataframe\">\n",
       "  <thead>\n",
       "    <tr style=\"text-align: right;\">\n",
       "      <th></th>\n",
       "      <th>UserScreenName</th>\n",
       "      <th>UserName</th>\n",
       "    </tr>\n",
       "  </thead>\n",
       "  <tbody>\n",
       "    <tr>\n",
       "      <th>0</th>\n",
       "      <td>La Product Conf &amp; LPCx España</td>\n",
       "      <td>@LaProductConfES</td>\n",
       "    </tr>\n",
       "    <tr>\n",
       "      <th>1</th>\n",
       "      <td>Heavy Mental</td>\n",
       "      <td>@HeavyMental_es</td>\n",
       "    </tr>\n",
       "    <tr>\n",
       "      <th>2</th>\n",
       "      <td>Javi Pérez Learning by doing.</td>\n",
       "      <td>@JaviMostoles</td>\n",
       "    </tr>\n",
       "    <tr>\n",
       "      <th>3</th>\n",
       "      <td>VLCTechHub</td>\n",
       "      <td>@VLCTechHub</td>\n",
       "    </tr>\n",
       "    <tr>\n",
       "      <th>4</th>\n",
       "      <td>Mulder</td>\n",
       "      <td>@Mulder01198676</td>\n",
       "    </tr>\n",
       "    <tr>\n",
       "      <th>...</th>\n",
       "      <td>...</td>\n",
       "      <td>...</td>\n",
       "    </tr>\n",
       "    <tr>\n",
       "      <th>61</th>\n",
       "      <td>Ana Amaro</td>\n",
       "      <td>@AnaWhitewolf</td>\n",
       "    </tr>\n",
       "    <tr>\n",
       "      <th>62</th>\n",
       "      <td>LaSeñoenlaRadioTdF</td>\n",
       "      <td>@LaSenioenRadio</td>\n",
       "    </tr>\n",
       "    <tr>\n",
       "      <th>63</th>\n",
       "      <td>Biohub VLC</td>\n",
       "      <td>@BiohubVLC</td>\n",
       "    </tr>\n",
       "    <tr>\n",
       "      <th>64</th>\n",
       "      <td>graphext</td>\n",
       "      <td>@graphext</td>\n",
       "    </tr>\n",
       "    <tr>\n",
       "      <th>65</th>\n",
       "      <td>Apiux Tecnología</td>\n",
       "      <td>@Apiuxtecnologia</td>\n",
       "    </tr>\n",
       "  </tbody>\n",
       "</table>\n",
       "<p>66 rows × 2 columns</p>\n",
       "</div>"
      ],
      "text/plain": [
       "                   UserScreenName          UserName\n",
       "0   La Product Conf & LPCx España  @LaProductConfES\n",
       "1                    Heavy Mental   @HeavyMental_es\n",
       "2   Javi Pérez Learning by doing.     @JaviMostoles\n",
       "3                      VLCTechHub       @VLCTechHub\n",
       "4                          Mulder   @Mulder01198676\n",
       "..                            ...               ...\n",
       "61                      Ana Amaro     @AnaWhitewolf\n",
       "62             LaSeñoenlaRadioTdF   @LaSenioenRadio\n",
       "63                     Biohub VLC        @BiohubVLC\n",
       "64                       graphext         @graphext\n",
       "65               Apiux Tecnología  @Apiuxtecnologia\n",
       "\n",
       "[66 rows x 2 columns]"
      ]
     },
     "execution_count": 41,
     "metadata": {},
     "output_type": "execute_result"
    }
   ],
   "source": [
    "usuarios"
   ]
  },
  {
   "cell_type": "code",
   "execution_count": 42,
   "metadata": {},
   "outputs": [],
   "source": [
    "lista4 =usuarios.values.tolist()"
   ]
  },
  {
   "cell_type": "code",
   "execution_count": 43,
   "metadata": {},
   "outputs": [],
   "source": [
    "conn = sqlite3.connect('database')\n",
    "#cur = conn.cursor()\n",
    "\n",
    "conn.execute('CREATE TABLE if not exists tweets(text TEXT,UserScreenName TEXT,Comments TEXT,Likes TEXT,Retweets TEXT,Timestamp TEXT)')\n",
    "\n",
    "conn.executemany(\"INSERT INTO tweets(text,UserScreenName,Comments,Likes,Retweets,Timestamp) VALUES(?,?,?,?,?,?)\", lista3)\n",
    "conn.commit()\n",
    "conn.close()"
   ]
  },
  {
   "cell_type": "code",
   "execution_count": 116,
   "metadata": {},
   "outputs": [],
   "source": [
    "conn = sqlite3.connect('database')\n",
    "#cur = conn.cursor()\n",
    "\n",
    "conn.execute('CREATE TABLE if not exists usuarios(UserScreenName TEXT,UserName TEXT)')\n",
    "\n",
    "conn.executemany(\"INSERT INTO usuarios(UserScreenName,UserName) VALUES(?,?)\", lista4)\n",
    "conn.commit()\n",
    "conn.close()"
   ]
  },
  {
   "cell_type": "code",
   "execution_count": null,
   "metadata": {},
   "outputs": [],
   "source": [
    "# con el modelo"
   ]
  },
  {
   "cell_type": "markdown",
   "metadata": {},
   "source": [
    "Utiliza un modelo pre entrenado para determinar el sentimiento de los tweets.\n",
    "Preguntas:\n",
    "a. ¿Cuáles son las predicciones? Interpreta los resultados.\n",
    "b. ¿Qué variables son las más importantes del modelo?\n",
    "c. ¿Cómo podrías mejorar el modelo?\n",
    "d. ¿Qué otras oportunidades se te ocurren donde se podrían aplicar otros\n",
    "modelos de ML?"
   ]
  },
  {
   "cell_type": "code",
   "execution_count": 44,
   "metadata": {},
   "outputs": [],
   "source": [
    "model = pd.read_pickle('sentiment_model')"
   ]
  },
  {
   "cell_type": "code",
   "execution_count": 45,
   "metadata": {},
   "outputs": [
    {
     "data": {
      "text/plain": [
       "Pipeline(steps=[('vect',\n",
       "                 CountVectorizer(max_df=0.5, max_features=1000, min_df=5,\n",
       "                                 ngram_range=(1, 2))),\n",
       "                ('cls', LogisticRegression(C=0.5))])"
      ]
     },
     "execution_count": 45,
     "metadata": {},
     "output_type": "execute_result"
    }
   ],
   "source": [
    "model"
   ]
  },
  {
   "cell_type": "code",
   "execution_count": null,
   "metadata": {},
   "outputs": [],
   "source": [
    "# preparo los datos antes de aplicar el modelo"
   ]
  },
  {
   "cell_type": "code",
   "execution_count": 63,
   "metadata": {},
   "outputs": [
    {
     "name": "stderr",
     "output_type": "stream",
     "text": [
      "c:\\Users\\enriq\\AppData\\Local\\Programs\\Python\\Python37\\lib\\site-packages\\ipykernel_launcher.py:8: SettingWithCopyWarning: \n",
      "A value is trying to be set on a copy of a slice from a DataFrame.\n",
      "Try using .loc[row_indexer,col_indexer] = value instead\n",
      "\n",
      "See the caveats in the documentation: https://pandas.pydata.org/pandas-docs/stable/user_guide/indexing.html#returning-a-view-versus-a-copy\n",
      "  \n"
     ]
    },
    {
     "data": {
      "text/plain": [
       "0    aquí estamos  a punto de comenzar #lpcxmad con...\n",
       "1    lo prometimos y han llegado gracias a  thebrid...\n",
       "2    lo conseguí gracias  thebridge_tech   heavymen...\n",
       "3    hoy  thebridge_tech  a las  taller data scienc...\n",
       "4    respondiendo a  heavymental_es  thebridge_tech...\n",
       "Name: text, dtype: object"
      ]
     },
     "execution_count": 63,
     "metadata": {},
     "output_type": "execute_result"
    }
   ],
   "source": [
    "import re\n",
    "\n",
    "signos = re.compile(\"(\\.)|(\\;)|(\\:)|(\\!)|(\\?)|(\\¿)|(\\@)|(\\,)|(\\\")|(\\()|(\\))|(\\[)|(\\])|(\\d+)\")\n",
    "\n",
    "def signs_tweets(tweeetss):\n",
    "    return signos.sub('', tweeetss.lower())\n",
    "\n",
    "tweets['text'] = tweets['text'].apply(signs_tweets)\n",
    "tweets['text'].head()"
   ]
  },
  {
   "cell_type": "code",
   "execution_count": 64,
   "metadata": {},
   "outputs": [
    {
     "name": "stderr",
     "output_type": "stream",
     "text": [
      "c:\\Users\\enriq\\AppData\\Local\\Programs\\Python\\Python37\\lib\\site-packages\\ipykernel_launcher.py:4: SettingWithCopyWarning: \n",
      "A value is trying to be set on a copy of a slice from a DataFrame.\n",
      "Try using .loc[row_indexer,col_indexer] = value instead\n",
      "\n",
      "See the caveats in the documentation: https://pandas.pydata.org/pandas-docs/stable/user_guide/indexing.html#returning-a-view-versus-a-copy\n",
      "  after removing the cwd from sys.path.\n"
     ]
    }
   ],
   "source": [
    "def remove_links(df):\n",
    "    return \" \".join(['{link}' if ('http') in word else word for word in df.split()])\n",
    "\n",
    "tweets['text'] = tweets['text'].apply(remove_links)"
   ]
  },
  {
   "cell_type": "code",
   "execution_count": 48,
   "metadata": {},
   "outputs": [
    {
     "data": {
      "text/plain": [
       "0    aquí estamos a punto de comenzar #lpcxmad con ...\n",
       "1    lo prometimos y han llegado gracias a thebridg...\n",
       "2    lo conseguí gracias thebridge_tech heavymental...\n",
       "3    hoy thebridge_tech a las taller data science v...\n",
       "4    respondiendo a heavymental_es thebridge_tech y...\n",
       "Name: text, dtype: object"
      ]
     },
     "execution_count": 48,
     "metadata": {},
     "output_type": "execute_result"
    }
   ],
   "source": [
    "tweets['text'].head()"
   ]
  },
  {
   "cell_type": "code",
   "execution_count": 65,
   "metadata": {},
   "outputs": [
    {
     "name": "stderr",
     "output_type": "stream",
     "text": [
      "c:\\Users\\enriq\\AppData\\Local\\Programs\\Python\\Python37\\lib\\site-packages\\ipykernel_launcher.py:8: SettingWithCopyWarning: \n",
      "A value is trying to be set on a copy of a slice from a DataFrame.\n",
      "Try using .loc[row_indexer,col_indexer] = value instead\n",
      "\n",
      "See the caveats in the documentation: https://pandas.pydata.org/pandas-docs/stable/user_guide/indexing.html#returning-a-view-versus-a-copy\n",
      "  \n"
     ]
    },
    {
     "data": {
      "text/plain": [
       "0    aquí punto comenzar #lpcxmad mercadonatech the...\n",
       "1    prometimos llegado gracias thebridge_tech últi...\n",
       "2    conseguí gracias thebridge_tech heavymental_es...\n",
       "3    hoy thebridge_tech taller data science valenci...\n",
       "4    respondiendo heavymental_es thebridge_tech cot...\n",
       "Name: text, dtype: object"
      ]
     },
     "execution_count": 65,
     "metadata": {},
     "output_type": "execute_result"
    }
   ],
   "source": [
    "from nltk.corpus import stopwords\n",
    "\n",
    "spanish_stopwords = stopwords.words('spanish')\n",
    "\n",
    "def remove_stopwords(df):\n",
    "    return \" \".join([word for word in df.split() if word not in spanish_stopwords])\n",
    "\n",
    "tweets['text'] = tweets['text'].apply(remove_stopwords)\n",
    "tweets['text'].head()"
   ]
  },
  {
   "cell_type": "code",
   "execution_count": 66,
   "metadata": {},
   "outputs": [
    {
     "name": "stderr",
     "output_type": "stream",
     "text": [
      "c:\\Users\\enriq\\AppData\\Local\\Programs\\Python\\Python37\\lib\\site-packages\\ipykernel_launcher.py:7: SettingWithCopyWarning: \n",
      "A value is trying to be set on a copy of a slice from a DataFrame.\n",
      "Try using .loc[row_indexer,col_indexer] = value instead\n",
      "\n",
      "See the caveats in the documentation: https://pandas.pydata.org/pandas-docs/stable/user_guide/indexing.html#returning-a-view-versus-a-copy\n",
      "  import sys\n"
     ]
    },
    {
     "data": {
      "text/plain": [
       "0    aqu punt comenz #lpcxmad mercadonatech thebrid...\n",
       "1    promet lleg graci thebridge_tech ultim entrad ...\n",
       "2    consegu graci thebridge_tech heavymental_ the ...\n",
       "3    hoy thebridge_tech tall dat scienc valenci pri...\n",
       "4    respond heavymental_ thebridge_tech cotizadisi...\n",
       "Name: text, dtype: object"
      ]
     },
     "execution_count": 66,
     "metadata": {},
     "output_type": "execute_result"
    }
   ],
   "source": [
    "from nltk.stem.snowball import SnowballStemmer\n",
    "\n",
    "def spanish_stemmer(x):\n",
    "    stemmer = SnowballStemmer('spanish')\n",
    "    return \" \".join([stemmer.stem(word) for word in x.split()])\n",
    "\n",
    "tweets['text'] = tweets['text'].apply(spanish_stemmer)\n",
    "tweets['text'].head()"
   ]
  },
  {
   "cell_type": "code",
   "execution_count": 67,
   "metadata": {},
   "outputs": [],
   "source": [
    "pred = model.predict(tweets['text'])"
   ]
  },
  {
   "cell_type": "code",
   "execution_count": 68,
   "metadata": {},
   "outputs": [
    {
     "data": {
      "text/plain": [
       "array([0, 0, 0, 0, 1, 0, 0, 0, 1, 0, 0, 0, 0, 1, 0, 1, 1, 0, 0, 1, 0, 0,\n",
       "       0, 1, 1, 1, 0, 1, 1, 0, 0, 0, 0, 0, 0, 1, 0, 0, 0, 0, 0, 0, 0, 1,\n",
       "       0, 0, 0, 1, 0, 0, 0, 0, 0, 1, 1, 1, 0, 0, 0, 0, 0, 0, 0, 0, 0, 0,\n",
       "       0, 0, 1, 0, 0, 0, 0, 0, 0, 0, 0, 1, 1, 1, 1, 1, 1, 0, 0, 0, 0, 0,\n",
       "       0, 0, 0, 1, 0, 0, 0, 0, 0, 0, 0, 0, 1, 0, 0, 0, 0, 0, 0, 0, 0, 1,\n",
       "       0, 0, 0, 0, 1, 0, 0, 0, 0, 1, 1, 1, 0, 0, 1, 0, 0, 0, 1, 0, 0, 1,\n",
       "       0, 0, 0, 0, 1, 0], dtype=int64)"
      ]
     },
     "execution_count": 68,
     "metadata": {},
     "output_type": "execute_result"
    }
   ],
   "source": [
    "pred"
   ]
  },
  {
   "cell_type": "code",
   "execution_count": null,
   "metadata": {},
   "outputs": [],
   "source": [
    "# el 0 indica que es sentimiento es bueno y el 1 malo"
   ]
  },
  {
   "cell_type": "code",
   "execution_count": 74,
   "metadata": {},
   "outputs": [],
   "source": [
    "\n",
    "prediction= pd.DataFrame(pred, columns=['feeling'] )"
   ]
  },
  {
   "cell_type": "code",
   "execution_count": 75,
   "metadata": {},
   "outputs": [
    {
     "data": {
      "text/html": [
       "<div>\n",
       "<style scoped>\n",
       "    .dataframe tbody tr th:only-of-type {\n",
       "        vertical-align: middle;\n",
       "    }\n",
       "\n",
       "    .dataframe tbody tr th {\n",
       "        vertical-align: top;\n",
       "    }\n",
       "\n",
       "    .dataframe thead th {\n",
       "        text-align: right;\n",
       "    }\n",
       "</style>\n",
       "<table border=\"1\" class=\"dataframe\">\n",
       "  <thead>\n",
       "    <tr style=\"text-align: right;\">\n",
       "      <th></th>\n",
       "      <th>feeling</th>\n",
       "    </tr>\n",
       "  </thead>\n",
       "  <tbody>\n",
       "    <tr>\n",
       "      <th>0</th>\n",
       "      <td>0</td>\n",
       "    </tr>\n",
       "    <tr>\n",
       "      <th>1</th>\n",
       "      <td>0</td>\n",
       "    </tr>\n",
       "    <tr>\n",
       "      <th>2</th>\n",
       "      <td>0</td>\n",
       "    </tr>\n",
       "    <tr>\n",
       "      <th>3</th>\n",
       "      <td>0</td>\n",
       "    </tr>\n",
       "    <tr>\n",
       "      <th>4</th>\n",
       "      <td>1</td>\n",
       "    </tr>\n",
       "    <tr>\n",
       "      <th>...</th>\n",
       "      <td>...</td>\n",
       "    </tr>\n",
       "    <tr>\n",
       "      <th>133</th>\n",
       "      <td>0</td>\n",
       "    </tr>\n",
       "    <tr>\n",
       "      <th>134</th>\n",
       "      <td>0</td>\n",
       "    </tr>\n",
       "    <tr>\n",
       "      <th>135</th>\n",
       "      <td>0</td>\n",
       "    </tr>\n",
       "    <tr>\n",
       "      <th>136</th>\n",
       "      <td>1</td>\n",
       "    </tr>\n",
       "    <tr>\n",
       "      <th>137</th>\n",
       "      <td>0</td>\n",
       "    </tr>\n",
       "  </tbody>\n",
       "</table>\n",
       "<p>138 rows × 1 columns</p>\n",
       "</div>"
      ],
      "text/plain": [
       "     feeling\n",
       "0          0\n",
       "1          0\n",
       "2          0\n",
       "3          0\n",
       "4          1\n",
       "..       ...\n",
       "133        0\n",
       "134        0\n",
       "135        0\n",
       "136        1\n",
       "137        0\n",
       "\n",
       "[138 rows x 1 columns]"
      ]
     },
     "execution_count": 75,
     "metadata": {},
     "output_type": "execute_result"
    }
   ],
   "source": [
    "prediction"
   ]
  },
  {
   "cell_type": "code",
   "execution_count": 76,
   "metadata": {},
   "outputs": [
    {
     "data": {
      "text/plain": [
       "0    103\n",
       "1     35\n",
       "Name: feeling, dtype: int64"
      ]
     },
     "execution_count": 76,
     "metadata": {},
     "output_type": "execute_result"
    }
   ],
   "source": [
    "prediction['feeling'].value_counts()"
   ]
  },
  {
   "cell_type": "code",
   "execution_count": 78,
   "metadata": {},
   "outputs": [
    {
     "data": {
      "image/png": "[encoded data removed]",
      "text/plain": [
       "<Figure size 432x288 with 1 Axes>"
      ]
     },
     "metadata": {},
     "output_type": "display_data"
    }
   ],
   "source": [
    "import matplotlib.pyplot as plt\n",
    "import seaborn as sns\n",
    "\n",
    "#define data\n",
    "data = [103, 35]\n",
    "labels = ['bueno', 'malo']\n",
    "\n",
    "#define Seaborn color palette to use\n",
    "colors = sns.color_palette('pastel')[0:5]\n",
    "\n",
    "#create pie chart\n",
    "plt.pie(data, labels = labels, colors = colors, autopct='%.0f%%')\n",
    "plt.show()"
   ]
  },
  {
   "cell_type": "code",
   "execution_count": 111,
   "metadata": {},
   "outputs": [
    {
     "data": {
      "text/plain": [
       "'Miércoles 6 de julio, 18h evento con  @GoogleES  donde hablaremos de #CloudComputing las nuevas herramientas como #kubernetes #Serverless #CI #CD y los perfiles que actualmente necesitan las empresas #devops #cloud   Saca ya tus entradas eventbrite.es Un paseo por la nube con Google Acércate al mundo Cloud con Google'"
      ]
     },
     "execution_count": 111,
     "metadata": {},
     "output_type": "execute_result"
    }
   ],
   "source": [
    "data['Embedded_text_new'][16]"
   ]
  },
  {
   "cell_type": "code",
   "execution_count": 137,
   "metadata": {},
   "outputs": [
    {
     "data": {
      "text/plain": [
       "'Respondiendo a  @HeavyMental_es  @TheBridge_Tech  y 6 más Gracias por intentarlo pero las señales me dicen que no debía estar (mala suerte que trabajando 3h sueltas los lunes me haya pillado trabajando xdd). Me tocará esperarme a la edición de Valencia '"
      ]
     },
     "execution_count": 137,
     "metadata": {},
     "output_type": "execute_result"
    }
   ],
   "source": [
    "data['Embedded_text_new'][9]"
   ]
  },
  {
   "cell_type": "code",
   "execution_count": null,
   "metadata": {},
   "outputs": [],
   "source": [
    "# VARIABLES IMPORTANTES EN EL MODELO    "
   ]
  },
  {
   "cell_type": "code",
   "execution_count": 144,
   "metadata": {},
   "outputs": [],
   "source": [
    "#model[0].get_feature_names_out()"
   ]
  },
  {
   "cell_type": "code",
   "execution_count": 141,
   "metadata": {},
   "outputs": [
    {
     "name": "stdout",
     "output_type": "stream",
     "text": [
      "1000\n"
     ]
    },
    {
     "name": "stderr",
     "output_type": "stream",
     "text": [
      "c:\\Users\\enriq\\AppData\\Local\\Programs\\Python\\Python37\\lib\\site-packages\\sklearn\\utils\\deprecation.py:87: FutureWarning: Function get_feature_names is deprecated; get_feature_names is deprecated in 1.0 and will be removed in 1.2. Please use get_feature_names_out instead.\n",
      "  warnings.warn(msg, category=FutureWarning)\n"
     ]
    }
   ],
   "source": [
    "cv =model[0]\n",
    "#cv.fit(reviews_train_clean)\n",
    "#X = cv.transform(reviews_train_clean)\n",
    "\n",
    "log_reg =model[1]\n",
    "#log_reg.fit(X, target)\n",
    "\n",
    "# Importancia de los coeficientes. En total, todas las palabras vectorizadas\n",
    "print(len(log_reg.coef_[0]))\n",
    "\n",
    "# Cada coeficiente va asociado a una palabra\n",
    "cv.get_feature_names()\n",
    "\n",
    "# Montamos un diccionario con palabra -> coeficiente\n",
    "feature_to_coef = {\n",
    "    word: coef for word, coef in zip(\n",
    "        cv.get_feature_names(), log_reg.coef_[0]\n",
    "    )\n",
    "}"
   ]
  },
  {
   "cell_type": "code",
   "execution_count": 143,
   "metadata": {},
   "outputs": [
    {
     "name": "stdout",
     "output_type": "stream",
     "text": [
      "('cuent', 1.427233666085361)\n",
      "('deficit', 1.4022058325629765)\n",
      "('blanc', 1.368604445686843)\n",
      "('muert', 1.3502570413482133)\n",
      "('conden', 1.3429067328197288)\n",
      "################################\n",
      "('encant', -1.8605111981502893)\n",
      "('enhorabuen', -1.8449366081495842)\n",
      "('graci', -1.805329609096349)\n",
      "('buen', -1.6751185631684895)\n",
      "('feliz', -1.4730851687952473)\n"
     ]
    }
   ],
   "source": [
    "\n",
    "for best_negative in sorted(\n",
    "    feature_to_coef.items(), \n",
    "    key=lambda x: x[1], \n",
    "    reverse=True)[:5]:\n",
    "    print(best_negative)\n",
    "    \n",
    "print('################################')\n",
    "for best_positive in sorted(\n",
    "    feature_to_coef.items(), \n",
    "    key=lambda x: x[1])[:5]:\n",
    "    print(best_positive)\n",
    "    "
   ]
  },
  {
   "cell_type": "code",
   "execution_count": null,
   "metadata": {},
   "outputs": [],
   "source": []
  },
  {
   "cell_type": "code",
   "execution_count": null,
   "metadata": {},
   "outputs": [],
   "source": []
  },
  {
   "cell_type": "code",
   "execution_count": 154,
   "metadata": {},
   "outputs": [],
   "source": [
    "import os"
   ]
  },
  {
   "cell_type": "code",
   "execution_count": 159,
   "metadata": {},
   "outputs": [],
   "source": [
    "import nltk"
   ]
  },
  {
   "cell_type": "code",
   "execution_count": 160,
   "metadata": {},
   "outputs": [
    {
     "data": {
      "text/plain": [
       "'3.7'"
      ]
     },
     "execution_count": 160,
     "metadata": {},
     "output_type": "execute_result"
    }
   ],
   "source": [
    "nltk.__version__\n"
   ]
  },
  {
   "cell_type": "code",
   "execution_count": 161,
   "metadata": {},
   "outputs": [
    {
     "data": {
      "text/plain": [
       "'2.2.1'"
      ]
     },
     "execution_count": 161,
     "metadata": {},
     "output_type": "execute_result"
    }
   ],
   "source": [
    "re.__version__"
   ]
  },
  {
   "cell_type": "code",
   "execution_count": 163,
   "metadata": {},
   "outputs": [],
   "source": [
    "import pickle"
   ]
  },
  {
   "cell_type": "code",
   "execution_count": 164,
   "metadata": {},
   "outputs": [
    {
     "ename": "AttributeError",
     "evalue": "module 'pickle' has no attribute '__version__'",
     "output_type": "error",
     "traceback": [
      "\u001b[1;31m---------------------------------------------------------------------------\u001b[0m",
      "\u001b[1;31mAttributeError\u001b[0m                            Traceback (most recent call last)",
      "\u001b[1;32m~\\AppData\\Local\\Temp\\ipykernel_28528\\1023728046.py\u001b[0m in \u001b[0;36m<module>\u001b[1;34m\u001b[0m\n\u001b[1;32m----> 1\u001b[1;33m \u001b[0mpickle\u001b[0m\u001b[1;33m.\u001b[0m\u001b[0m__version__\u001b[0m\u001b[1;33m\u001b[0m\u001b[1;33m\u001b[0m\u001b[0m\n\u001b[0m",
      "\u001b[1;31mAttributeError\u001b[0m: module 'pickle' has no attribute '__version__'"
     ]
    }
   ],
   "source": [
    "pickle.__version__"
   ]
  },
  {
   "cell_type": "code",
   "execution_count": 2,
   "metadata": {},
   "outputs": [
    {
     "ename": "NameError",
     "evalue": "name 'nltk' is not defined",
     "output_type": "error",
     "traceback": [
      "\u001b[1;31m---------------------------------------------------------------------------\u001b[0m",
      "\u001b[1;31mNameError\u001b[0m                                 Traceback (most recent call last)",
      "\u001b[1;32m~\\AppData\\Local\\Temp\\ipykernel_7560\\2996534050.py\u001b[0m in \u001b[0;36m<module>\u001b[1;34m\u001b[0m\n\u001b[1;32m----> 1\u001b[1;33m \u001b[0mnltk\u001b[0m\u001b[1;33m.\u001b[0m\u001b[0mdownload\u001b[0m\u001b[1;33m(\u001b[0m\u001b[1;34m'stopwords'\u001b[0m\u001b[1;33m)\u001b[0m\u001b[1;33m\u001b[0m\u001b[1;33m\u001b[0m\u001b[0m\n\u001b[0m",
      "\u001b[1;31mNameError\u001b[0m: name 'nltk' is not defined"
     ]
    }
   ],
   "source": [
    "nltk.download('stopwords')"
   ]
  },
  {
   "cell_type": "code",
   "execution_count": 1,
   "metadata": {},
   "outputs": [],
   "source": [
    "import nltk"
   ]
  },
  {
   "cell_type": "code",
   "execution_count": 2,
   "metadata": {},
   "outputs": [
    {
     "name": "stdout",
     "output_type": "stream",
     "text": [
      "showing info https://raw.githubusercontent.com/nltk/nltk_data/gh-pages/index.xml\n"
     ]
    }
   ],
   "source": [
    "nltk.download()"
   ]
  }
 ],
 "metadata": {
  "kernelspec": {
   "display_name": "Python 3.7.4 64-bit",
   "language": "python",
   "name": "python3"
  },
  "language_info": {
   "codemirror_mode": {
    "name": "ipython",
    "version": 3
   },
   "file_extension": ".py",
   "mimetype": "text/x-python",
   "name": "python",
   "nbconvert_exporter": "python",
   "pygments_lexer": "ipython3",
   "version": "3.7.4"
  },
  "orig_nbformat": 4,
  "vscode": {
   "interpreter": {
    "hash": "70b38634f151bc788305d78fa55f4f5eb67f51bd92b5405d2063f303c7241f5d"
   }
  }
 },
 "nbformat": 4,
 "nbformat_minor": 2
}
